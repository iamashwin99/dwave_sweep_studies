{
 "cells": [
  {
   "cell_type": "code",
   "execution_count": 33,
   "metadata": {},
   "outputs": [],
   "source": [
    "from dwave.system import EmbeddingComposite, DWaveSampler\n",
    "import matplotlib.pyplot as plt\n",
    "import plotly.express as px\n",
    "import seaborn as sns"
   ]
  },
  {
   "cell_type": "code",
   "execution_count": 3,
   "metadata": {},
   "outputs": [
    {
     "name": "stdout",
     "output_type": "stream",
     "text": [
      "Advantage_system5.4\n"
     ]
    }
   ],
   "source": [
    "# load the qpu and the auto embedding solver\n",
    "qpu = DWaveSampler(region='eu-central-1')\n",
    "print(qpu.solver.name)\n",
    "sampler = EmbeddingComposite(qpu)"
   ]
  },
  {
   "cell_type": "markdown",
   "metadata": {},
   "source": [
    "# Problem setup\n",
    "\n",
    "We want to find out the statistical behaviour of dwave's qpu.\n",
    "To do this, we first need to define the problem.\n",
    "\n",
    "We consider the following two qubit Ising problem:\n",
    "$$J_{0,1} = -1$$\n",
    "Such a problem has 2 possible solutions:\n",
    "$\\ket{00}$ and $\\ket{11}$.\n",
    "\n",
    "We need to find out the distribution of the qubits after a certain number of steps.\n",
    "Statistically we expect them to be equally distributed regardless of :\n",
    "- The qubits on which they are operated\n",
    "- The annealing time\n",
    "- The number of samples per trial\n",
    "- The mode of the annealing schedule ( simple forward or reverse+forward annealing ) "
   ]
  },
  {
   "cell_type": "markdown",
   "metadata": {},
   "source": [
    "# Simple examples"
   ]
  },
  {
   "cell_type": "markdown",
   "metadata": {},
   "source": [
    "## Forward annealing example"
   ]
  },
  {
   "cell_type": "code",
   "execution_count": 4,
   "metadata": {},
   "outputs": [],
   "source": [
    "J = {(0, 1): -1}"
   ]
  },
  {
   "cell_type": "code",
   "execution_count": 52,
   "metadata": {},
   "outputs": [],
   "source": [
    "sampleset = sampler.sample_ising({},J, num_reads=450, annealing_time=2000, auto_scale=False).to_pandas_dataframe()"
   ]
  },
  {
   "cell_type": "code",
   "execution_count": 55,
   "metadata": {},
   "outputs": [
    {
     "data": {
      "application/vnd.plotly.v1+json": {
       "config": {
        "plotlyServerURL": "https://plot.ly"
       },
       "data": [
        {
         "alignmentgroup": "True",
         "hovertemplate": "state=%{x}<br>num_occurrences=%{y}<extra></extra>",
         "legendgroup": "",
         "marker": {
          "color": "#636efa",
          "pattern": {
           "shape": ""
          }
         },
         "name": "",
         "offsetgroup": "",
         "orientation": "v",
         "showlegend": false,
         "textposition": "auto",
         "type": "bar",
         "x": [
          "0 0",
          "1 1"
         ],
         "xaxis": "x",
         "y": [
          221,
          229
         ],
         "yaxis": "y"
        }
       ],
       "layout": {
        "barmode": "relative",
        "legend": {
         "tracegroupgap": 0
        },
        "template": {
         "data": {
          "bar": [
           {
            "error_x": {
             "color": "#2a3f5f"
            },
            "error_y": {
             "color": "#2a3f5f"
            },
            "marker": {
             "line": {
              "color": "#E5ECF6",
              "width": 0.5
             },
             "pattern": {
              "fillmode": "overlay",
              "size": 10,
              "solidity": 0.2
             }
            },
            "type": "bar"
           }
          ],
          "barpolar": [
           {
            "marker": {
             "line": {
              "color": "#E5ECF6",
              "width": 0.5
             },
             "pattern": {
              "fillmode": "overlay",
              "size": 10,
              "solidity": 0.2
             }
            },
            "type": "barpolar"
           }
          ],
          "carpet": [
           {
            "aaxis": {
             "endlinecolor": "#2a3f5f",
             "gridcolor": "white",
             "linecolor": "white",
             "minorgridcolor": "white",
             "startlinecolor": "#2a3f5f"
            },
            "baxis": {
             "endlinecolor": "#2a3f5f",
             "gridcolor": "white",
             "linecolor": "white",
             "minorgridcolor": "white",
             "startlinecolor": "#2a3f5f"
            },
            "type": "carpet"
           }
          ],
          "choropleth": [
           {
            "colorbar": {
             "outlinewidth": 0,
             "ticks": ""
            },
            "type": "choropleth"
           }
          ],
          "contour": [
           {
            "colorbar": {
             "outlinewidth": 0,
             "ticks": ""
            },
            "colorscale": [
             [
              0,
              "#0d0887"
             ],
             [
              0.1111111111111111,
              "#46039f"
             ],
             [
              0.2222222222222222,
              "#7201a8"
             ],
             [
              0.3333333333333333,
              "#9c179e"
             ],
             [
              0.4444444444444444,
              "#bd3786"
             ],
             [
              0.5555555555555556,
              "#d8576b"
             ],
             [
              0.6666666666666666,
              "#ed7953"
             ],
             [
              0.7777777777777778,
              "#fb9f3a"
             ],
             [
              0.8888888888888888,
              "#fdca26"
             ],
             [
              1,
              "#f0f921"
             ]
            ],
            "type": "contour"
           }
          ],
          "contourcarpet": [
           {
            "colorbar": {
             "outlinewidth": 0,
             "ticks": ""
            },
            "type": "contourcarpet"
           }
          ],
          "heatmap": [
           {
            "colorbar": {
             "outlinewidth": 0,
             "ticks": ""
            },
            "colorscale": [
             [
              0,
              "#0d0887"
             ],
             [
              0.1111111111111111,
              "#46039f"
             ],
             [
              0.2222222222222222,
              "#7201a8"
             ],
             [
              0.3333333333333333,
              "#9c179e"
             ],
             [
              0.4444444444444444,
              "#bd3786"
             ],
             [
              0.5555555555555556,
              "#d8576b"
             ],
             [
              0.6666666666666666,
              "#ed7953"
             ],
             [
              0.7777777777777778,
              "#fb9f3a"
             ],
             [
              0.8888888888888888,
              "#fdca26"
             ],
             [
              1,
              "#f0f921"
             ]
            ],
            "type": "heatmap"
           }
          ],
          "heatmapgl": [
           {
            "colorbar": {
             "outlinewidth": 0,
             "ticks": ""
            },
            "colorscale": [
             [
              0,
              "#0d0887"
             ],
             [
              0.1111111111111111,
              "#46039f"
             ],
             [
              0.2222222222222222,
              "#7201a8"
             ],
             [
              0.3333333333333333,
              "#9c179e"
             ],
             [
              0.4444444444444444,
              "#bd3786"
             ],
             [
              0.5555555555555556,
              "#d8576b"
             ],
             [
              0.6666666666666666,
              "#ed7953"
             ],
             [
              0.7777777777777778,
              "#fb9f3a"
             ],
             [
              0.8888888888888888,
              "#fdca26"
             ],
             [
              1,
              "#f0f921"
             ]
            ],
            "type": "heatmapgl"
           }
          ],
          "histogram": [
           {
            "marker": {
             "pattern": {
              "fillmode": "overlay",
              "size": 10,
              "solidity": 0.2
             }
            },
            "type": "histogram"
           }
          ],
          "histogram2d": [
           {
            "colorbar": {
             "outlinewidth": 0,
             "ticks": ""
            },
            "colorscale": [
             [
              0,
              "#0d0887"
             ],
             [
              0.1111111111111111,
              "#46039f"
             ],
             [
              0.2222222222222222,
              "#7201a8"
             ],
             [
              0.3333333333333333,
              "#9c179e"
             ],
             [
              0.4444444444444444,
              "#bd3786"
             ],
             [
              0.5555555555555556,
              "#d8576b"
             ],
             [
              0.6666666666666666,
              "#ed7953"
             ],
             [
              0.7777777777777778,
              "#fb9f3a"
             ],
             [
              0.8888888888888888,
              "#fdca26"
             ],
             [
              1,
              "#f0f921"
             ]
            ],
            "type": "histogram2d"
           }
          ],
          "histogram2dcontour": [
           {
            "colorbar": {
             "outlinewidth": 0,
             "ticks": ""
            },
            "colorscale": [
             [
              0,
              "#0d0887"
             ],
             [
              0.1111111111111111,
              "#46039f"
             ],
             [
              0.2222222222222222,
              "#7201a8"
             ],
             [
              0.3333333333333333,
              "#9c179e"
             ],
             [
              0.4444444444444444,
              "#bd3786"
             ],
             [
              0.5555555555555556,
              "#d8576b"
             ],
             [
              0.6666666666666666,
              "#ed7953"
             ],
             [
              0.7777777777777778,
              "#fb9f3a"
             ],
             [
              0.8888888888888888,
              "#fdca26"
             ],
             [
              1,
              "#f0f921"
             ]
            ],
            "type": "histogram2dcontour"
           }
          ],
          "mesh3d": [
           {
            "colorbar": {
             "outlinewidth": 0,
             "ticks": ""
            },
            "type": "mesh3d"
           }
          ],
          "parcoords": [
           {
            "line": {
             "colorbar": {
              "outlinewidth": 0,
              "ticks": ""
             }
            },
            "type": "parcoords"
           }
          ],
          "pie": [
           {
            "automargin": true,
            "type": "pie"
           }
          ],
          "scatter": [
           {
            "fillpattern": {
             "fillmode": "overlay",
             "size": 10,
             "solidity": 0.2
            },
            "type": "scatter"
           }
          ],
          "scatter3d": [
           {
            "line": {
             "colorbar": {
              "outlinewidth": 0,
              "ticks": ""
             }
            },
            "marker": {
             "colorbar": {
              "outlinewidth": 0,
              "ticks": ""
             }
            },
            "type": "scatter3d"
           }
          ],
          "scattercarpet": [
           {
            "marker": {
             "colorbar": {
              "outlinewidth": 0,
              "ticks": ""
             }
            },
            "type": "scattercarpet"
           }
          ],
          "scattergeo": [
           {
            "marker": {
             "colorbar": {
              "outlinewidth": 0,
              "ticks": ""
             }
            },
            "type": "scattergeo"
           }
          ],
          "scattergl": [
           {
            "marker": {
             "colorbar": {
              "outlinewidth": 0,
              "ticks": ""
             }
            },
            "type": "scattergl"
           }
          ],
          "scattermapbox": [
           {
            "marker": {
             "colorbar": {
              "outlinewidth": 0,
              "ticks": ""
             }
            },
            "type": "scattermapbox"
           }
          ],
          "scatterpolar": [
           {
            "marker": {
             "colorbar": {
              "outlinewidth": 0,
              "ticks": ""
             }
            },
            "type": "scatterpolar"
           }
          ],
          "scatterpolargl": [
           {
            "marker": {
             "colorbar": {
              "outlinewidth": 0,
              "ticks": ""
             }
            },
            "type": "scatterpolargl"
           }
          ],
          "scatterternary": [
           {
            "marker": {
             "colorbar": {
              "outlinewidth": 0,
              "ticks": ""
             }
            },
            "type": "scatterternary"
           }
          ],
          "surface": [
           {
            "colorbar": {
             "outlinewidth": 0,
             "ticks": ""
            },
            "colorscale": [
             [
              0,
              "#0d0887"
             ],
             [
              0.1111111111111111,
              "#46039f"
             ],
             [
              0.2222222222222222,
              "#7201a8"
             ],
             [
              0.3333333333333333,
              "#9c179e"
             ],
             [
              0.4444444444444444,
              "#bd3786"
             ],
             [
              0.5555555555555556,
              "#d8576b"
             ],
             [
              0.6666666666666666,
              "#ed7953"
             ],
             [
              0.7777777777777778,
              "#fb9f3a"
             ],
             [
              0.8888888888888888,
              "#fdca26"
             ],
             [
              1,
              "#f0f921"
             ]
            ],
            "type": "surface"
           }
          ],
          "table": [
           {
            "cells": {
             "fill": {
              "color": "#EBF0F8"
             },
             "line": {
              "color": "white"
             }
            },
            "header": {
             "fill": {
              "color": "#C8D4E3"
             },
             "line": {
              "color": "white"
             }
            },
            "type": "table"
           }
          ]
         },
         "layout": {
          "annotationdefaults": {
           "arrowcolor": "#2a3f5f",
           "arrowhead": 0,
           "arrowwidth": 1
          },
          "autotypenumbers": "strict",
          "coloraxis": {
           "colorbar": {
            "outlinewidth": 0,
            "ticks": ""
           }
          },
          "colorscale": {
           "diverging": [
            [
             0,
             "#8e0152"
            ],
            [
             0.1,
             "#c51b7d"
            ],
            [
             0.2,
             "#de77ae"
            ],
            [
             0.3,
             "#f1b6da"
            ],
            [
             0.4,
             "#fde0ef"
            ],
            [
             0.5,
             "#f7f7f7"
            ],
            [
             0.6,
             "#e6f5d0"
            ],
            [
             0.7,
             "#b8e186"
            ],
            [
             0.8,
             "#7fbc41"
            ],
            [
             0.9,
             "#4d9221"
            ],
            [
             1,
             "#276419"
            ]
           ],
           "sequential": [
            [
             0,
             "#0d0887"
            ],
            [
             0.1111111111111111,
             "#46039f"
            ],
            [
             0.2222222222222222,
             "#7201a8"
            ],
            [
             0.3333333333333333,
             "#9c179e"
            ],
            [
             0.4444444444444444,
             "#bd3786"
            ],
            [
             0.5555555555555556,
             "#d8576b"
            ],
            [
             0.6666666666666666,
             "#ed7953"
            ],
            [
             0.7777777777777778,
             "#fb9f3a"
            ],
            [
             0.8888888888888888,
             "#fdca26"
            ],
            [
             1,
             "#f0f921"
            ]
           ],
           "sequentialminus": [
            [
             0,
             "#0d0887"
            ],
            [
             0.1111111111111111,
             "#46039f"
            ],
            [
             0.2222222222222222,
             "#7201a8"
            ],
            [
             0.3333333333333333,
             "#9c179e"
            ],
            [
             0.4444444444444444,
             "#bd3786"
            ],
            [
             0.5555555555555556,
             "#d8576b"
            ],
            [
             0.6666666666666666,
             "#ed7953"
            ],
            [
             0.7777777777777778,
             "#fb9f3a"
            ],
            [
             0.8888888888888888,
             "#fdca26"
            ],
            [
             1,
             "#f0f921"
            ]
           ]
          },
          "colorway": [
           "#636efa",
           "#EF553B",
           "#00cc96",
           "#ab63fa",
           "#FFA15A",
           "#19d3f3",
           "#FF6692",
           "#B6E880",
           "#FF97FF",
           "#FECB52"
          ],
          "font": {
           "color": "#2a3f5f"
          },
          "geo": {
           "bgcolor": "white",
           "lakecolor": "white",
           "landcolor": "#E5ECF6",
           "showlakes": true,
           "showland": true,
           "subunitcolor": "white"
          },
          "hoverlabel": {
           "align": "left"
          },
          "hovermode": "closest",
          "mapbox": {
           "style": "light"
          },
          "paper_bgcolor": "white",
          "plot_bgcolor": "#E5ECF6",
          "polar": {
           "angularaxis": {
            "gridcolor": "white",
            "linecolor": "white",
            "ticks": ""
           },
           "bgcolor": "#E5ECF6",
           "radialaxis": {
            "gridcolor": "white",
            "linecolor": "white",
            "ticks": ""
           }
          },
          "scene": {
           "xaxis": {
            "backgroundcolor": "#E5ECF6",
            "gridcolor": "white",
            "gridwidth": 2,
            "linecolor": "white",
            "showbackground": true,
            "ticks": "",
            "zerolinecolor": "white"
           },
           "yaxis": {
            "backgroundcolor": "#E5ECF6",
            "gridcolor": "white",
            "gridwidth": 2,
            "linecolor": "white",
            "showbackground": true,
            "ticks": "",
            "zerolinecolor": "white"
           },
           "zaxis": {
            "backgroundcolor": "#E5ECF6",
            "gridcolor": "white",
            "gridwidth": 2,
            "linecolor": "white",
            "showbackground": true,
            "ticks": "",
            "zerolinecolor": "white"
           }
          },
          "shapedefaults": {
           "line": {
            "color": "#2a3f5f"
           }
          },
          "ternary": {
           "aaxis": {
            "gridcolor": "white",
            "linecolor": "white",
            "ticks": ""
           },
           "baxis": {
            "gridcolor": "white",
            "linecolor": "white",
            "ticks": ""
           },
           "bgcolor": "#E5ECF6",
           "caxis": {
            "gridcolor": "white",
            "linecolor": "white",
            "ticks": ""
           }
          },
          "title": {
           "x": 0.05
          },
          "xaxis": {
           "automargin": true,
           "gridcolor": "white",
           "linecolor": "white",
           "ticks": "",
           "title": {
            "standoff": 15
           },
           "zerolinecolor": "white",
           "zerolinewidth": 2
          },
          "yaxis": {
           "automargin": true,
           "gridcolor": "white",
           "linecolor": "white",
           "ticks": "",
           "title": {
            "standoff": 15
           },
           "zerolinecolor": "white",
           "zerolinewidth": 2
          }
         }
        },
        "title": {
         "text": "Frequency distribution"
        },
        "xaxis": {
         "anchor": "y",
         "domain": [
          0,
          1
         ],
         "title": {
          "text": "state"
         }
        },
        "yaxis": {
         "anchor": "x",
         "domain": [
          0,
          1
         ],
         "title": {
          "text": "num_occurrences"
         }
        }
       }
      },
      "text/html": [
       "<div>                            <div id=\"b4f8f56a-b822-4783-bab4-dc0cf8b7dbb2\" class=\"plotly-graph-div\" style=\"height:525px; width:100%;\"></div>            <script type=\"text/javascript\">                require([\"plotly\"], function(Plotly) {                    window.PLOTLYENV=window.PLOTLYENV || {};                                    if (document.getElementById(\"b4f8f56a-b822-4783-bab4-dc0cf8b7dbb2\")) {                    Plotly.newPlot(                        \"b4f8f56a-b822-4783-bab4-dc0cf8b7dbb2\",                        [{\"alignmentgroup\":\"True\",\"hovertemplate\":\"state=%{x}\\u003cbr\\u003enum_occurrences=%{y}\\u003cextra\\u003e\\u003c\\u002fextra\\u003e\",\"legendgroup\":\"\",\"marker\":{\"color\":\"#636efa\",\"pattern\":{\"shape\":\"\"}},\"name\":\"\",\"offsetgroup\":\"\",\"orientation\":\"v\",\"showlegend\":false,\"textposition\":\"auto\",\"x\":[\"0 0\",\"1 1\"],\"xaxis\":\"x\",\"y\":[221,229],\"yaxis\":\"y\",\"type\":\"bar\"}],                        {\"template\":{\"data\":{\"histogram2dcontour\":[{\"type\":\"histogram2dcontour\",\"colorbar\":{\"outlinewidth\":0,\"ticks\":\"\"},\"colorscale\":[[0.0,\"#0d0887\"],[0.1111111111111111,\"#46039f\"],[0.2222222222222222,\"#7201a8\"],[0.3333333333333333,\"#9c179e\"],[0.4444444444444444,\"#bd3786\"],[0.5555555555555556,\"#d8576b\"],[0.6666666666666666,\"#ed7953\"],[0.7777777777777778,\"#fb9f3a\"],[0.8888888888888888,\"#fdca26\"],[1.0,\"#f0f921\"]]}],\"choropleth\":[{\"type\":\"choropleth\",\"colorbar\":{\"outlinewidth\":0,\"ticks\":\"\"}}],\"histogram2d\":[{\"type\":\"histogram2d\",\"colorbar\":{\"outlinewidth\":0,\"ticks\":\"\"},\"colorscale\":[[0.0,\"#0d0887\"],[0.1111111111111111,\"#46039f\"],[0.2222222222222222,\"#7201a8\"],[0.3333333333333333,\"#9c179e\"],[0.4444444444444444,\"#bd3786\"],[0.5555555555555556,\"#d8576b\"],[0.6666666666666666,\"#ed7953\"],[0.7777777777777778,\"#fb9f3a\"],[0.8888888888888888,\"#fdca26\"],[1.0,\"#f0f921\"]]}],\"heatmap\":[{\"type\":\"heatmap\",\"colorbar\":{\"outlinewidth\":0,\"ticks\":\"\"},\"colorscale\":[[0.0,\"#0d0887\"],[0.1111111111111111,\"#46039f\"],[0.2222222222222222,\"#7201a8\"],[0.3333333333333333,\"#9c179e\"],[0.4444444444444444,\"#bd3786\"],[0.5555555555555556,\"#d8576b\"],[0.6666666666666666,\"#ed7953\"],[0.7777777777777778,\"#fb9f3a\"],[0.8888888888888888,\"#fdca26\"],[1.0,\"#f0f921\"]]}],\"heatmapgl\":[{\"type\":\"heatmapgl\",\"colorbar\":{\"outlinewidth\":0,\"ticks\":\"\"},\"colorscale\":[[0.0,\"#0d0887\"],[0.1111111111111111,\"#46039f\"],[0.2222222222222222,\"#7201a8\"],[0.3333333333333333,\"#9c179e\"],[0.4444444444444444,\"#bd3786\"],[0.5555555555555556,\"#d8576b\"],[0.6666666666666666,\"#ed7953\"],[0.7777777777777778,\"#fb9f3a\"],[0.8888888888888888,\"#fdca26\"],[1.0,\"#f0f921\"]]}],\"contourcarpet\":[{\"type\":\"contourcarpet\",\"colorbar\":{\"outlinewidth\":0,\"ticks\":\"\"}}],\"contour\":[{\"type\":\"contour\",\"colorbar\":{\"outlinewidth\":0,\"ticks\":\"\"},\"colorscale\":[[0.0,\"#0d0887\"],[0.1111111111111111,\"#46039f\"],[0.2222222222222222,\"#7201a8\"],[0.3333333333333333,\"#9c179e\"],[0.4444444444444444,\"#bd3786\"],[0.5555555555555556,\"#d8576b\"],[0.6666666666666666,\"#ed7953\"],[0.7777777777777778,\"#fb9f3a\"],[0.8888888888888888,\"#fdca26\"],[1.0,\"#f0f921\"]]}],\"surface\":[{\"type\":\"surface\",\"colorbar\":{\"outlinewidth\":0,\"ticks\":\"\"},\"colorscale\":[[0.0,\"#0d0887\"],[0.1111111111111111,\"#46039f\"],[0.2222222222222222,\"#7201a8\"],[0.3333333333333333,\"#9c179e\"],[0.4444444444444444,\"#bd3786\"],[0.5555555555555556,\"#d8576b\"],[0.6666666666666666,\"#ed7953\"],[0.7777777777777778,\"#fb9f3a\"],[0.8888888888888888,\"#fdca26\"],[1.0,\"#f0f921\"]]}],\"mesh3d\":[{\"type\":\"mesh3d\",\"colorbar\":{\"outlinewidth\":0,\"ticks\":\"\"}}],\"scatter\":[{\"fillpattern\":{\"fillmode\":\"overlay\",\"size\":10,\"solidity\":0.2},\"type\":\"scatter\"}],\"parcoords\":[{\"type\":\"parcoords\",\"line\":{\"colorbar\":{\"outlinewidth\":0,\"ticks\":\"\"}}}],\"scatterpolargl\":[{\"type\":\"scatterpolargl\",\"marker\":{\"colorbar\":{\"outlinewidth\":0,\"ticks\":\"\"}}}],\"bar\":[{\"error_x\":{\"color\":\"#2a3f5f\"},\"error_y\":{\"color\":\"#2a3f5f\"},\"marker\":{\"line\":{\"color\":\"#E5ECF6\",\"width\":0.5},\"pattern\":{\"fillmode\":\"overlay\",\"size\":10,\"solidity\":0.2}},\"type\":\"bar\"}],\"scattergeo\":[{\"type\":\"scattergeo\",\"marker\":{\"colorbar\":{\"outlinewidth\":0,\"ticks\":\"\"}}}],\"scatterpolar\":[{\"type\":\"scatterpolar\",\"marker\":{\"colorbar\":{\"outlinewidth\":0,\"ticks\":\"\"}}}],\"histogram\":[{\"marker\":{\"pattern\":{\"fillmode\":\"overlay\",\"size\":10,\"solidity\":0.2}},\"type\":\"histogram\"}],\"scattergl\":[{\"type\":\"scattergl\",\"marker\":{\"colorbar\":{\"outlinewidth\":0,\"ticks\":\"\"}}}],\"scatter3d\":[{\"type\":\"scatter3d\",\"line\":{\"colorbar\":{\"outlinewidth\":0,\"ticks\":\"\"}},\"marker\":{\"colorbar\":{\"outlinewidth\":0,\"ticks\":\"\"}}}],\"scattermapbox\":[{\"type\":\"scattermapbox\",\"marker\":{\"colorbar\":{\"outlinewidth\":0,\"ticks\":\"\"}}}],\"scatterternary\":[{\"type\":\"scatterternary\",\"marker\":{\"colorbar\":{\"outlinewidth\":0,\"ticks\":\"\"}}}],\"scattercarpet\":[{\"type\":\"scattercarpet\",\"marker\":{\"colorbar\":{\"outlinewidth\":0,\"ticks\":\"\"}}}],\"carpet\":[{\"aaxis\":{\"endlinecolor\":\"#2a3f5f\",\"gridcolor\":\"white\",\"linecolor\":\"white\",\"minorgridcolor\":\"white\",\"startlinecolor\":\"#2a3f5f\"},\"baxis\":{\"endlinecolor\":\"#2a3f5f\",\"gridcolor\":\"white\",\"linecolor\":\"white\",\"minorgridcolor\":\"white\",\"startlinecolor\":\"#2a3f5f\"},\"type\":\"carpet\"}],\"table\":[{\"cells\":{\"fill\":{\"color\":\"#EBF0F8\"},\"line\":{\"color\":\"white\"}},\"header\":{\"fill\":{\"color\":\"#C8D4E3\"},\"line\":{\"color\":\"white\"}},\"type\":\"table\"}],\"barpolar\":[{\"marker\":{\"line\":{\"color\":\"#E5ECF6\",\"width\":0.5},\"pattern\":{\"fillmode\":\"overlay\",\"size\":10,\"solidity\":0.2}},\"type\":\"barpolar\"}],\"pie\":[{\"automargin\":true,\"type\":\"pie\"}]},\"layout\":{\"autotypenumbers\":\"strict\",\"colorway\":[\"#636efa\",\"#EF553B\",\"#00cc96\",\"#ab63fa\",\"#FFA15A\",\"#19d3f3\",\"#FF6692\",\"#B6E880\",\"#FF97FF\",\"#FECB52\"],\"font\":{\"color\":\"#2a3f5f\"},\"hovermode\":\"closest\",\"hoverlabel\":{\"align\":\"left\"},\"paper_bgcolor\":\"white\",\"plot_bgcolor\":\"#E5ECF6\",\"polar\":{\"bgcolor\":\"#E5ECF6\",\"angularaxis\":{\"gridcolor\":\"white\",\"linecolor\":\"white\",\"ticks\":\"\"},\"radialaxis\":{\"gridcolor\":\"white\",\"linecolor\":\"white\",\"ticks\":\"\"}},\"ternary\":{\"bgcolor\":\"#E5ECF6\",\"aaxis\":{\"gridcolor\":\"white\",\"linecolor\":\"white\",\"ticks\":\"\"},\"baxis\":{\"gridcolor\":\"white\",\"linecolor\":\"white\",\"ticks\":\"\"},\"caxis\":{\"gridcolor\":\"white\",\"linecolor\":\"white\",\"ticks\":\"\"}},\"coloraxis\":{\"colorbar\":{\"outlinewidth\":0,\"ticks\":\"\"}},\"colorscale\":{\"sequential\":[[0.0,\"#0d0887\"],[0.1111111111111111,\"#46039f\"],[0.2222222222222222,\"#7201a8\"],[0.3333333333333333,\"#9c179e\"],[0.4444444444444444,\"#bd3786\"],[0.5555555555555556,\"#d8576b\"],[0.6666666666666666,\"#ed7953\"],[0.7777777777777778,\"#fb9f3a\"],[0.8888888888888888,\"#fdca26\"],[1.0,\"#f0f921\"]],\"sequentialminus\":[[0.0,\"#0d0887\"],[0.1111111111111111,\"#46039f\"],[0.2222222222222222,\"#7201a8\"],[0.3333333333333333,\"#9c179e\"],[0.4444444444444444,\"#bd3786\"],[0.5555555555555556,\"#d8576b\"],[0.6666666666666666,\"#ed7953\"],[0.7777777777777778,\"#fb9f3a\"],[0.8888888888888888,\"#fdca26\"],[1.0,\"#f0f921\"]],\"diverging\":[[0,\"#8e0152\"],[0.1,\"#c51b7d\"],[0.2,\"#de77ae\"],[0.3,\"#f1b6da\"],[0.4,\"#fde0ef\"],[0.5,\"#f7f7f7\"],[0.6,\"#e6f5d0\"],[0.7,\"#b8e186\"],[0.8,\"#7fbc41\"],[0.9,\"#4d9221\"],[1,\"#276419\"]]},\"xaxis\":{\"gridcolor\":\"white\",\"linecolor\":\"white\",\"ticks\":\"\",\"title\":{\"standoff\":15},\"zerolinecolor\":\"white\",\"automargin\":true,\"zerolinewidth\":2},\"yaxis\":{\"gridcolor\":\"white\",\"linecolor\":\"white\",\"ticks\":\"\",\"title\":{\"standoff\":15},\"zerolinecolor\":\"white\",\"automargin\":true,\"zerolinewidth\":2},\"scene\":{\"xaxis\":{\"backgroundcolor\":\"#E5ECF6\",\"gridcolor\":\"white\",\"linecolor\":\"white\",\"showbackground\":true,\"ticks\":\"\",\"zerolinecolor\":\"white\",\"gridwidth\":2},\"yaxis\":{\"backgroundcolor\":\"#E5ECF6\",\"gridcolor\":\"white\",\"linecolor\":\"white\",\"showbackground\":true,\"ticks\":\"\",\"zerolinecolor\":\"white\",\"gridwidth\":2},\"zaxis\":{\"backgroundcolor\":\"#E5ECF6\",\"gridcolor\":\"white\",\"linecolor\":\"white\",\"showbackground\":true,\"ticks\":\"\",\"zerolinecolor\":\"white\",\"gridwidth\":2}},\"shapedefaults\":{\"line\":{\"color\":\"#2a3f5f\"}},\"annotationdefaults\":{\"arrowcolor\":\"#2a3f5f\",\"arrowhead\":0,\"arrowwidth\":1},\"geo\":{\"bgcolor\":\"white\",\"landcolor\":\"#E5ECF6\",\"subunitcolor\":\"white\",\"showland\":true,\"showlakes\":true,\"lakecolor\":\"white\"},\"title\":{\"x\":0.05},\"mapbox\":{\"style\":\"light\"}}},\"xaxis\":{\"anchor\":\"y\",\"domain\":[0.0,1.0],\"title\":{\"text\":\"state\"}},\"yaxis\":{\"anchor\":\"x\",\"domain\":[0.0,1.0],\"title\":{\"text\":\"num_occurrences\"}},\"legend\":{\"tracegroupgap\":0},\"title\":{\"text\":\"Frequency distribution\"},\"barmode\":\"relative\"},                        {\"responsive\": true}                    ).then(function(){\n",
       "                            \n",
       "var gd = document.getElementById('b4f8f56a-b822-4783-bab4-dc0cf8b7dbb2');\n",
       "var x = new MutationObserver(function (mutations, observer) {{\n",
       "        var display = window.getComputedStyle(gd).display;\n",
       "        if (!display || display === 'none') {{\n",
       "            console.log([gd, 'removed!']);\n",
       "            Plotly.purge(gd);\n",
       "            observer.disconnect();\n",
       "        }}\n",
       "}});\n",
       "\n",
       "// Listen for the removal of the full notebook cells\n",
       "var notebookContainer = gd.closest('#notebook-container');\n",
       "if (notebookContainer) {{\n",
       "    x.observe(notebookContainer, {childList: true});\n",
       "}}\n",
       "\n",
       "// Listen for the clearing of the current output cell\n",
       "var outputEl = gd.closest('.output');\n",
       "if (outputEl) {{\n",
       "    x.observe(outputEl, {childList: true});\n",
       "}}\n",
       "\n",
       "                        })                };                });            </script>        </div>"
      ]
     },
     "metadata": {},
     "output_type": "display_data"
    }
   ],
   "source": [
    "sampleset['state'] = sampleset.apply(lambda row: f\"{int((row[0]+1)/2)} {int((row[1]+1)/2)}\", axis=1)\n",
    "px.bar(sampleset, x='state',y='num_occurrences', title='Frequency distribution')"
   ]
  },
  {
   "cell_type": "markdown",
   "metadata": {},
   "source": [
    "## Reverse annealing example"
   ]
  },
  {
   "cell_type": "code",
   "execution_count": 57,
   "metadata": {},
   "outputs": [],
   "source": [
    "initial = {0:-1, 1:-1}  # Set the initial state\n",
    "reverse_schedule = [ [0.0,1.0], [50,0.5], [100,1.0] ] # Set the annealing schedule, first element is % , the second is ratio of mixing hamiltonian and problem hamiltonian\n",
    "reverse_anneal_params = dict(anneal_schedule=reverse_schedule,\n",
    "                             initial_state=initial,\n",
    "                             reinitialize_state=True)  # Reinitialize to the specified initial state for every anneal-readout cycle. Each anneal begins from the state given in the initial_state parameter.\n",
    "# See https://docs.dwavesys.com/docs/latest/c_solver_parameters.html#reinitialize-state\n"
   ]
  },
  {
   "cell_type": "code",
   "execution_count": 58,
   "metadata": {},
   "outputs": [],
   "source": [
    "sampleset = sampler.sample_ising({}, J, num_reads=1000, **reverse_anneal_params).to_pandas_dataframe()"
   ]
  },
  {
   "cell_type": "code",
   "execution_count": 59,
   "metadata": {},
   "outputs": [
    {
     "data": {
      "application/vnd.plotly.v1+json": {
       "config": {
        "plotlyServerURL": "https://plot.ly"
       },
       "data": [
        {
         "alignmentgroup": "True",
         "hovertemplate": "state=%{x}<br>count=%{y}<extra></extra>",
         "legendgroup": "",
         "marker": {
          "color": "#636efa",
          "pattern": {
           "shape": ""
          }
         },
         "name": "",
         "offsetgroup": "",
         "orientation": "v",
         "showlegend": false,
         "textposition": "auto",
         "type": "bar",
         "x": [
          "0 0",
          "0 0",
          "0 0",
          "0 0",
          "0 0",
          "0 0",
          "0 0",
          "0 0",
          "0 0",
          "0 0",
          "0 0",
          "0 0",
          "0 0",
          "0 0",
          "1 1",
          "0 0",
          "0 0",
          "0 0",
          "0 0",
          "0 0",
          "0 0",
          "0 0",
          "0 0",
          "0 0",
          "0 0",
          "0 0",
          "0 0",
          "0 0",
          "0 0",
          "0 0",
          "0 0",
          "0 0",
          "0 0",
          "0 0",
          "0 0",
          "0 0",
          "0 0",
          "0 0",
          "0 0",
          "0 0",
          "0 0",
          "0 0",
          "0 0",
          "0 0",
          "0 0",
          "0 0",
          "0 0",
          "0 0",
          "0 0",
          "0 0",
          "0 0",
          "0 0",
          "0 0",
          "0 0",
          "0 0",
          "0 0",
          "0 0",
          "0 0",
          "0 0",
          "0 0",
          "0 0",
          "0 0",
          "0 0",
          "0 0",
          "0 0",
          "0 0",
          "0 0",
          "1 1",
          "0 0",
          "0 0",
          "0 0",
          "0 0",
          "0 0",
          "0 0",
          "0 0",
          "0 0",
          "0 0",
          "0 0",
          "0 0",
          "0 0",
          "0 0",
          "0 0",
          "1 1",
          "0 0",
          "0 0",
          "0 0",
          "0 0",
          "0 0",
          "0 0",
          "0 0",
          "0 0",
          "0 0",
          "0 0",
          "0 0",
          "0 0",
          "1 1",
          "0 0",
          "0 0",
          "0 0",
          "0 0",
          "0 0",
          "0 0",
          "1 1",
          "0 0",
          "0 0",
          "0 0",
          "0 0",
          "0 0",
          "0 0",
          "0 0",
          "0 0",
          "0 0",
          "0 0",
          "1 1",
          "0 0",
          "0 0",
          "0 0",
          "0 0",
          "0 0",
          "0 0",
          "0 0",
          "0 0",
          "0 0",
          "0 0",
          "0 0",
          "0 0",
          "0 0",
          "0 0",
          "0 0",
          "0 0",
          "1 1",
          "0 0",
          "0 0",
          "0 0",
          "0 0",
          "1 1",
          "0 0",
          "0 0",
          "0 0",
          "0 0",
          "0 0",
          "1 1",
          "1 1",
          "0 0",
          "0 0",
          "0 0",
          "0 0",
          "0 0",
          "1 1",
          "0 0",
          "1 1",
          "0 0",
          "0 0",
          "0 0",
          "0 0",
          "1 1",
          "0 0",
          "0 0",
          "0 0",
          "0 0",
          "0 0",
          "0 0",
          "0 0",
          "0 0",
          "0 0",
          "0 0",
          "0 0",
          "1 1",
          "0 0",
          "1 1",
          "0 0",
          "0 0",
          "0 0",
          "0 0",
          "1 1",
          "0 0",
          "0 0",
          "0 0",
          "1 1",
          "0 0",
          "0 0",
          "0 0",
          "0 0",
          "0 0",
          "0 0",
          "0 0",
          "1 1",
          "1 1",
          "0 0",
          "0 0",
          "0 0",
          "0 0",
          "0 0",
          "0 0",
          "0 0",
          "0 0",
          "0 0",
          "1 1",
          "0 0",
          "0 0",
          "0 0",
          "0 0",
          "0 0",
          "0 0",
          "0 0",
          "0 0",
          "0 0",
          "0 0",
          "0 0",
          "1 1",
          "0 0",
          "0 0",
          "0 0",
          "0 0",
          "0 0",
          "0 0",
          "0 0",
          "0 0",
          "0 0",
          "0 0",
          "0 0",
          "0 0",
          "0 0",
          "0 0",
          "1 1",
          "0 0",
          "0 0",
          "0 0",
          "0 0",
          "0 0",
          "0 0",
          "0 0",
          "0 0",
          "0 0",
          "0 0",
          "1 1",
          "0 0",
          "0 0",
          "0 0",
          "0 0",
          "0 0",
          "0 0",
          "0 0",
          "0 0",
          "1 1",
          "0 0",
          "1 1",
          "0 0",
          "0 0",
          "0 0",
          "0 0",
          "0 0",
          "0 0",
          "0 0",
          "0 0",
          "0 0",
          "0 0",
          "0 0",
          "0 0",
          "0 0",
          "0 0",
          "0 0",
          "0 0",
          "0 0",
          "0 0",
          "0 0",
          "0 0",
          "1 1",
          "0 0",
          "0 0",
          "0 0",
          "0 0",
          "0 0",
          "0 0",
          "0 0",
          "0 0",
          "0 0",
          "0 0",
          "0 0",
          "0 0",
          "0 0",
          "0 0",
          "0 0",
          "0 0",
          "0 0",
          "0 0",
          "0 0",
          "0 0",
          "0 0",
          "0 0",
          "1 1",
          "0 0",
          "0 0",
          "0 0",
          "0 0",
          "0 0",
          "0 0",
          "0 0",
          "0 0",
          "0 0",
          "0 0",
          "1 1",
          "0 0",
          "0 0",
          "0 0",
          "0 0",
          "0 0",
          "0 0",
          "0 0",
          "0 0",
          "0 0",
          "0 0",
          "0 0",
          "0 0",
          "0 0",
          "0 0",
          "1 1",
          "0 0",
          "1 1",
          "0 0",
          "1 1",
          "0 0",
          "0 0",
          "0 0",
          "0 0",
          "0 0",
          "0 0",
          "0 0",
          "1 1",
          "0 0",
          "0 0",
          "0 0",
          "0 0",
          "0 0",
          "0 0",
          "0 0",
          "0 0",
          "0 0",
          "1 1",
          "0 0",
          "0 0",
          "0 0",
          "0 0",
          "0 0",
          "0 0",
          "0 0",
          "0 0",
          "0 0",
          "0 0",
          "0 0",
          "0 0",
          "1 1",
          "0 0",
          "1 1",
          "0 0",
          "0 0",
          "0 0",
          "0 0",
          "0 0",
          "0 0",
          "0 0",
          "0 0",
          "0 0",
          "0 0",
          "0 0",
          "0 0",
          "0 0",
          "1 1",
          "0 0",
          "0 0",
          "0 0",
          "0 0",
          "0 0",
          "0 0",
          "1 1",
          "0 0",
          "0 0",
          "0 0",
          "0 0",
          "1 1",
          "0 0",
          "0 0",
          "0 0",
          "0 0",
          "0 0",
          "0 0",
          "0 0",
          "0 0",
          "0 0",
          "0 0",
          "0 0",
          "0 0",
          "0 0",
          "0 0",
          "0 0",
          "0 0",
          "0 0",
          "0 0",
          "0 0",
          "0 0",
          "0 0",
          "0 0",
          "0 0",
          "0 0",
          "0 0",
          "0 0",
          "0 0",
          "0 0",
          "0 0",
          "0 0",
          "0 0",
          "0 0",
          "0 0",
          "0 0",
          "0 0",
          "0 0",
          "0 0",
          "0 0",
          "0 0",
          "0 0",
          "0 0",
          "0 0",
          "0 0",
          "0 0",
          "0 0",
          "0 0",
          "0 0",
          "0 0",
          "0 0",
          "0 0",
          "0 0",
          "0 0",
          "0 0",
          "0 0",
          "0 0",
          "0 0",
          "0 0",
          "0 0",
          "0 0",
          "0 0",
          "0 0",
          "0 0",
          "0 0",
          "0 0",
          "0 0",
          "0 0",
          "0 0",
          "0 0",
          "0 0",
          "1 1",
          "0 0",
          "0 0",
          "0 0",
          "0 0",
          "0 0",
          "0 0",
          "1 1",
          "0 0",
          "0 0",
          "0 0",
          "0 0",
          "1 1",
          "0 0",
          "0 0",
          "0 0",
          "0 0",
          "0 0",
          "0 0",
          "0 0",
          "0 0",
          "0 0",
          "0 0",
          "0 0",
          "0 0",
          "0 0",
          "0 0",
          "0 0",
          "0 0",
          "0 0",
          "0 0",
          "0 0",
          "0 0",
          "0 0",
          "0 0",
          "0 0",
          "0 0",
          "0 0",
          "0 0",
          "0 0",
          "0 0",
          "0 0",
          "1 1",
          "0 0",
          "0 0",
          "0 0",
          "0 0",
          "1 1",
          "0 0",
          "0 0",
          "0 0",
          "1 1",
          "0 0",
          "1 1",
          "0 0",
          "0 0",
          "0 0",
          "0 0",
          "0 0",
          "0 0",
          "0 0",
          "0 0",
          "0 0",
          "1 1",
          "0 0",
          "0 0",
          "0 0",
          "0 0",
          "0 0",
          "0 0",
          "0 0",
          "0 0",
          "0 0",
          "0 0",
          "0 0",
          "0 0",
          "0 0",
          "0 0",
          "1 1",
          "0 0",
          "0 0",
          "0 0",
          "0 0",
          "0 0",
          "0 0",
          "0 0",
          "0 0",
          "0 0",
          "0 0",
          "1 1",
          "0 0",
          "0 0",
          "0 0",
          "0 0",
          "0 0",
          "0 0",
          "1 1",
          "0 0",
          "0 0",
          "0 0",
          "0 0",
          "1 1",
          "0 0",
          "0 0",
          "0 0",
          "0 0",
          "0 0",
          "0 0",
          "0 0",
          "0 0",
          "0 0",
          "0 0",
          "0 0",
          "0 0",
          "0 0",
          "1 1",
          "1 1",
          "0 0",
          "0 0",
          "1 1",
          "0 0",
          "0 0",
          "0 0",
          "0 0",
          "0 0",
          "0 0",
          "0 0",
          "0 0",
          "0 0",
          "0 0",
          "0 0",
          "0 0",
          "0 0",
          "0 0",
          "0 0",
          "0 0",
          "0 0",
          "1 1",
          "0 0",
          "0 0",
          "0 0",
          "0 0",
          "0 0",
          "0 0",
          "0 0",
          "1 1",
          "0 0",
          "0 0",
          "0 0",
          "0 0",
          "0 0",
          "0 0",
          "0 0",
          "0 0",
          "0 0",
          "0 0",
          "0 0",
          "0 0",
          "0 0",
          "1 1",
          "0 0",
          "0 0",
          "0 0",
          "0 0",
          "0 0",
          "0 0",
          "0 0",
          "0 0",
          "0 0",
          "0 0",
          "0 0",
          "0 0",
          "0 0",
          "0 0",
          "0 0",
          "0 0",
          "0 0",
          "0 0",
          "0 0",
          "1 1",
          "0 0",
          "0 0",
          "0 0",
          "0 0",
          "1 1",
          "0 0",
          "0 0",
          "0 0",
          "0 0",
          "0 0",
          "1 1",
          "0 0",
          "0 0",
          "0 0",
          "0 0",
          "0 0",
          "0 0",
          "0 0",
          "0 0",
          "0 0",
          "1 1",
          "0 0",
          "0 0",
          "0 0",
          "0 0",
          "0 0",
          "0 0",
          "0 0",
          "0 0",
          "0 0",
          "0 0",
          "0 0",
          "0 0",
          "0 0",
          "0 0",
          "0 0",
          "0 0",
          "0 0",
          "0 0",
          "0 0",
          "0 0",
          "0 0",
          "0 0",
          "0 0",
          "0 0",
          "0 0",
          "0 0",
          "0 0",
          "0 0",
          "0 0",
          "0 0",
          "0 0",
          "0 0",
          "0 0",
          "0 0",
          "1 1",
          "1 1",
          "0 0",
          "0 0",
          "0 0",
          "0 0",
          "0 0",
          "0 0",
          "0 0",
          "0 0",
          "0 0",
          "0 0",
          "0 0",
          "0 0",
          "0 0",
          "0 0",
          "1 1",
          "0 0",
          "0 0",
          "0 0",
          "1 1",
          "0 0",
          "0 0",
          "0 0",
          "1 1",
          "0 0",
          "0 0",
          "0 0",
          "0 0",
          "0 0",
          "0 0",
          "0 0",
          "1 1",
          "0 0",
          "0 0",
          "0 0",
          "1 1",
          "0 0",
          "0 0",
          "0 0",
          "0 0",
          "0 0",
          "0 0",
          "1 1",
          "0 0",
          "0 0",
          "0 0",
          "1 1",
          "0 0",
          "0 0",
          "0 0",
          "0 0",
          "0 0",
          "0 0",
          "0 0",
          "1 1",
          "0 0",
          "1 1",
          "0 0",
          "0 0",
          "1 1",
          "0 0",
          "0 0",
          "0 0",
          "0 0",
          "0 0",
          "0 0",
          "0 0",
          "0 0",
          "0 0",
          "0 0",
          "0 0",
          "0 0",
          "0 0",
          "0 0",
          "0 0",
          "0 0",
          "0 0",
          "0 0",
          "0 0",
          "0 0",
          "0 0",
          "0 0",
          "0 0",
          "0 0",
          "0 0",
          "0 0",
          "0 0",
          "0 0",
          "0 0",
          "0 0",
          "0 0",
          "0 0",
          "0 0",
          "0 0",
          "0 0",
          "0 0",
          "0 0",
          "0 0",
          "0 0",
          "0 0",
          "0 0",
          "0 0",
          "0 0",
          "0 0",
          "0 0",
          "0 0",
          "0 0",
          "0 0",
          "1 1",
          "0 0",
          "0 0",
          "1 1",
          "0 0",
          "0 0",
          "0 0",
          "0 0",
          "0 0",
          "1 1",
          "0 0",
          "1 1",
          "0 0",
          "0 0",
          "0 0",
          "0 0",
          "1 1",
          "1 1",
          "0 0",
          "0 0",
          "0 0",
          "1 1",
          "0 0",
          "0 0",
          "0 0",
          "1 1",
          "0 0",
          "0 0",
          "0 0",
          "0 0",
          "0 0",
          "0 0",
          "0 0",
          "0 0",
          "0 0",
          "0 0",
          "1 1",
          "0 0",
          "0 0",
          "0 0",
          "0 0",
          "0 0",
          "0 0",
          "0 0",
          "0 0",
          "0 0",
          "0 0",
          "0 0",
          "1 1",
          "0 0",
          "0 0",
          "0 0",
          "0 0",
          "0 0",
          "0 0",
          "1 1",
          "0 0",
          "0 0",
          "0 0",
          "0 0",
          "0 0",
          "1 1",
          "0 0",
          "0 0",
          "1 1",
          "0 0",
          "0 0",
          "0 0",
          "0 0",
          "0 0",
          "0 0",
          "0 0",
          "0 0",
          "0 0",
          "0 0",
          "1 1",
          "0 0",
          "0 0",
          "0 0",
          "0 0",
          "0 0",
          "1 1",
          "0 0",
          "0 0",
          "0 0",
          "0 0",
          "0 0",
          "0 0",
          "0 0",
          "0 0",
          "0 0",
          "0 0",
          "1 1",
          "0 0",
          "0 0",
          "0 0",
          "0 0",
          "1 1",
          "1 1",
          "0 0",
          "0 0",
          "0 0",
          "0 0",
          "0 0",
          "0 0",
          "0 0",
          "0 0",
          "0 0",
          "0 0",
          "0 0",
          "0 0",
          "0 0",
          "0 0",
          "1 1",
          "0 0",
          "1 1",
          "0 0",
          "0 0",
          "0 0",
          "1 1",
          "0 0",
          "0 0",
          "0 0",
          "0 0",
          "0 0",
          "0 0",
          "0 0",
          "0 0",
          "0 0",
          "0 0",
          "1 1",
          "0 0",
          "1 1",
          "0 0",
          "0 0",
          "0 0",
          "0 0",
          "0 0",
          "0 0",
          "0 0",
          "0 0",
          "0 0",
          "0 0",
          "1 1",
          "0 0",
          "0 0",
          "0 0",
          "1 1",
          "0 0",
          "0 0",
          "0 0",
          "0 0",
          "0 0",
          "0 0",
          "0 0",
          "0 0",
          "0 0",
          "0 0",
          "0 0",
          "0 0",
          "0 0",
          "0 0",
          "0 0",
          "1 1",
          "1 1",
          "0 0",
          "0 0",
          "0 0",
          "0 0",
          "0 0",
          "0 0",
          "1 1",
          "0 0",
          "0 0",
          "0 0",
          "0 0",
          "0 0",
          "0 0",
          "0 0",
          "0 0",
          "0 0",
          "1 1",
          "1 1",
          "0 0",
          "0 0",
          "0 0",
          "1 1",
          "1 1",
          "0 0",
          "0 0",
          "0 0",
          "0 0",
          "0 0",
          "0 0",
          "0 0",
          "0 0",
          "0 0",
          "0 0",
          "0 0",
          "0 0",
          "0 0",
          "0 0",
          "0 0",
          "0 0",
          "1 1",
          "0 0",
          "0 0"
         ],
         "xaxis": "x",
         "y": [
          1,
          1,
          1,
          1,
          1,
          1,
          1,
          1,
          1,
          1,
          1,
          1,
          1,
          1,
          1,
          1,
          1,
          1,
          1,
          1,
          1,
          1,
          1,
          1,
          1,
          1,
          1,
          1,
          1,
          1,
          1,
          1,
          1,
          1,
          1,
          1,
          1,
          1,
          1,
          1,
          1,
          1,
          1,
          1,
          1,
          1,
          1,
          1,
          1,
          1,
          1,
          1,
          1,
          1,
          1,
          1,
          1,
          1,
          1,
          1,
          1,
          1,
          1,
          1,
          1,
          1,
          1,
          1,
          1,
          1,
          1,
          1,
          1,
          1,
          1,
          1,
          1,
          1,
          1,
          1,
          1,
          1,
          1,
          1,
          1,
          1,
          1,
          1,
          1,
          1,
          1,
          1,
          1,
          1,
          1,
          1,
          1,
          1,
          1,
          1,
          1,
          1,
          1,
          1,
          1,
          1,
          1,
          1,
          1,
          1,
          1,
          1,
          1,
          1,
          1,
          1,
          1,
          1,
          1,
          1,
          1,
          1,
          1,
          1,
          1,
          1,
          1,
          1,
          1,
          1,
          1,
          1,
          1,
          1,
          1,
          1,
          1,
          1,
          1,
          1,
          1,
          1,
          1,
          1,
          1,
          1,
          1,
          1,
          1,
          1,
          1,
          1,
          1,
          1,
          1,
          1,
          1,
          1,
          1,
          1,
          1,
          1,
          1,
          1,
          1,
          1,
          1,
          1,
          1,
          1,
          1,
          1,
          1,
          1,
          1,
          1,
          1,
          1,
          1,
          1,
          1,
          1,
          1,
          1,
          1,
          1,
          1,
          1,
          1,
          1,
          1,
          1,
          1,
          1,
          1,
          1,
          1,
          1,
          1,
          1,
          1,
          1,
          1,
          1,
          1,
          1,
          1,
          1,
          1,
          1,
          1,
          1,
          1,
          1,
          1,
          1,
          1,
          1,
          1,
          1,
          1,
          1,
          1,
          1,
          1,
          1,
          1,
          1,
          1,
          1,
          1,
          1,
          1,
          1,
          1,
          1,
          1,
          1,
          1,
          1,
          1,
          1,
          1,
          1,
          1,
          1,
          1,
          1,
          1,
          1,
          1,
          1,
          1,
          1,
          1,
          1,
          1,
          1,
          1,
          1,
          1,
          1,
          1,
          1,
          1,
          1,
          1,
          1,
          1,
          1,
          1,
          1,
          1,
          1,
          1,
          1,
          1,
          1,
          1,
          1,
          1,
          1,
          1,
          1,
          1,
          1,
          1,
          1,
          1,
          1,
          1,
          1,
          1,
          1,
          1,
          1,
          1,
          1,
          1,
          1,
          1,
          1,
          1,
          1,
          1,
          1,
          1,
          1,
          1,
          1,
          1,
          1,
          1,
          1,
          1,
          1,
          1,
          1,
          1,
          1,
          1,
          1,
          1,
          1,
          1,
          1,
          1,
          1,
          1,
          1,
          1,
          1,
          1,
          1,
          1,
          1,
          1,
          1,
          1,
          1,
          1,
          1,
          1,
          1,
          1,
          1,
          1,
          1,
          1,
          1,
          1,
          1,
          1,
          1,
          1,
          1,
          1,
          1,
          1,
          1,
          1,
          1,
          1,
          1,
          1,
          1,
          1,
          1,
          1,
          1,
          1,
          1,
          1,
          1,
          1,
          1,
          1,
          1,
          1,
          1,
          1,
          1,
          1,
          1,
          1,
          1,
          1,
          1,
          1,
          1,
          1,
          1,
          1,
          1,
          1,
          1,
          1,
          1,
          1,
          1,
          1,
          1,
          1,
          1,
          1,
          1,
          1,
          1,
          1,
          1,
          1,
          1,
          1,
          1,
          1,
          1,
          1,
          1,
          1,
          1,
          1,
          1,
          1,
          1,
          1,
          1,
          1,
          1,
          1,
          1,
          1,
          1,
          1,
          1,
          1,
          1,
          1,
          1,
          1,
          1,
          1,
          1,
          1,
          1,
          1,
          1,
          1,
          1,
          1,
          1,
          1,
          1,
          1,
          1,
          1,
          1,
          1,
          1,
          1,
          1,
          1,
          1,
          1,
          1,
          1,
          1,
          1,
          1,
          1,
          1,
          1,
          1,
          1,
          1,
          1,
          1,
          1,
          1,
          1,
          1,
          1,
          1,
          1,
          1,
          1,
          1,
          1,
          1,
          1,
          1,
          1,
          1,
          1,
          1,
          1,
          1,
          1,
          1,
          1,
          1,
          1,
          1,
          1,
          1,
          1,
          1,
          1,
          1,
          1,
          1,
          1,
          1,
          1,
          1,
          1,
          1,
          1,
          1,
          1,
          1,
          1,
          1,
          1,
          1,
          1,
          1,
          1,
          1,
          1,
          1,
          1,
          1,
          1,
          1,
          1,
          1,
          1,
          1,
          1,
          1,
          1,
          1,
          1,
          1,
          1,
          1,
          1,
          1,
          1,
          1,
          1,
          1,
          1,
          1,
          1,
          1,
          1,
          1,
          1,
          1,
          1,
          1,
          1,
          1,
          1,
          1,
          1,
          1,
          1,
          1,
          1,
          1,
          1,
          1,
          1,
          1,
          1,
          1,
          1,
          1,
          1,
          1,
          1,
          1,
          1,
          1,
          1,
          1,
          1,
          1,
          1,
          1,
          1,
          1,
          1,
          1,
          1,
          1,
          1,
          1,
          1,
          1,
          1,
          1,
          1,
          1,
          1,
          1,
          1,
          1,
          1,
          1,
          1,
          1,
          1,
          1,
          1,
          1,
          1,
          1,
          1,
          1,
          1,
          1,
          1,
          1,
          1,
          1,
          1,
          1,
          1,
          1,
          1,
          1,
          1,
          1,
          1,
          1,
          1,
          1,
          1,
          1,
          1,
          1,
          1,
          1,
          1,
          1,
          1,
          1,
          1,
          1,
          1,
          1,
          1,
          1,
          1,
          1,
          1,
          1,
          1,
          1,
          1,
          1,
          1,
          1,
          1,
          1,
          1,
          1,
          1,
          1,
          1,
          1,
          1,
          1,
          1,
          1,
          1,
          1,
          1,
          1,
          1,
          1,
          1,
          1,
          1,
          1,
          1,
          1,
          1,
          1,
          1,
          1,
          1,
          1,
          1,
          1,
          1,
          1,
          1,
          1,
          1,
          1,
          1,
          1,
          1,
          1,
          1,
          1,
          1,
          1,
          1,
          1,
          1,
          1,
          1,
          1,
          1,
          1,
          1,
          1,
          1,
          1,
          1,
          1,
          1,
          1,
          1,
          1,
          1,
          1,
          1,
          1,
          1,
          1,
          1,
          1,
          1,
          1,
          1,
          1,
          1,
          1,
          1,
          1,
          1,
          1,
          1,
          1,
          1,
          1,
          1,
          1,
          1,
          1,
          1,
          1,
          1,
          1,
          1,
          1,
          1,
          1,
          1,
          1,
          1,
          1,
          1,
          1,
          1,
          1,
          1,
          1,
          1,
          1,
          1,
          1,
          1,
          1,
          1,
          1,
          1,
          1,
          1,
          1,
          1,
          1,
          1,
          1,
          1,
          1,
          1,
          1,
          1,
          1,
          1,
          1,
          1,
          1,
          1,
          1,
          1,
          1,
          1,
          1,
          1,
          1,
          1,
          1,
          1,
          1,
          1,
          1,
          1,
          1,
          1,
          1,
          1,
          1,
          1,
          1,
          1,
          1,
          1,
          1,
          1,
          1,
          1,
          1,
          1,
          1,
          1,
          1,
          1,
          1,
          1,
          1,
          1,
          1,
          1,
          1,
          1,
          1,
          1,
          1,
          1,
          1,
          1,
          1,
          1,
          1,
          1,
          1,
          1,
          1,
          1,
          1,
          1,
          1,
          1,
          1,
          1,
          1,
          1,
          1,
          1,
          1,
          1,
          1,
          1,
          1,
          1,
          1,
          1,
          1,
          1,
          1,
          1,
          1,
          1,
          1,
          1,
          1,
          1,
          1,
          1,
          1,
          1,
          1,
          1,
          1,
          1,
          1,
          1,
          1,
          1,
          1,
          1,
          1,
          1,
          1,
          1,
          1,
          1,
          1,
          1,
          1,
          1,
          1,
          1,
          1,
          1,
          1,
          1,
          1,
          1,
          1,
          1,
          1,
          1,
          1,
          1,
          1,
          1,
          1,
          1,
          1,
          1,
          1,
          1,
          1,
          1,
          1,
          1,
          1,
          1,
          1,
          1,
          1,
          1,
          1,
          1,
          1,
          1,
          1,
          1,
          1,
          1,
          1,
          1,
          1,
          1,
          1,
          1,
          1,
          1,
          1,
          1,
          1,
          1,
          1,
          1,
          1,
          1,
          1,
          1,
          1,
          1,
          1,
          1,
          1,
          1,
          1,
          1,
          1,
          1,
          1,
          1,
          1,
          1,
          1,
          1,
          1,
          1,
          1,
          1,
          1,
          1,
          1,
          1,
          1,
          1,
          1,
          1,
          1,
          1,
          1,
          1,
          1
         ],
         "yaxis": "y"
        }
       ],
       "layout": {
        "barmode": "relative",
        "legend": {
         "tracegroupgap": 0
        },
        "template": {
         "data": {
          "bar": [
           {
            "error_x": {
             "color": "#2a3f5f"
            },
            "error_y": {
             "color": "#2a3f5f"
            },
            "marker": {
             "line": {
              "color": "#E5ECF6",
              "width": 0.5
             },
             "pattern": {
              "fillmode": "overlay",
              "size": 10,
              "solidity": 0.2
             }
            },
            "type": "bar"
           }
          ],
          "barpolar": [
           {
            "marker": {
             "line": {
              "color": "#E5ECF6",
              "width": 0.5
             },
             "pattern": {
              "fillmode": "overlay",
              "size": 10,
              "solidity": 0.2
             }
            },
            "type": "barpolar"
           }
          ],
          "carpet": [
           {
            "aaxis": {
             "endlinecolor": "#2a3f5f",
             "gridcolor": "white",
             "linecolor": "white",
             "minorgridcolor": "white",
             "startlinecolor": "#2a3f5f"
            },
            "baxis": {
             "endlinecolor": "#2a3f5f",
             "gridcolor": "white",
             "linecolor": "white",
             "minorgridcolor": "white",
             "startlinecolor": "#2a3f5f"
            },
            "type": "carpet"
           }
          ],
          "choropleth": [
           {
            "colorbar": {
             "outlinewidth": 0,
             "ticks": ""
            },
            "type": "choropleth"
           }
          ],
          "contour": [
           {
            "colorbar": {
             "outlinewidth": 0,
             "ticks": ""
            },
            "colorscale": [
             [
              0,
              "#0d0887"
             ],
             [
              0.1111111111111111,
              "#46039f"
             ],
             [
              0.2222222222222222,
              "#7201a8"
             ],
             [
              0.3333333333333333,
              "#9c179e"
             ],
             [
              0.4444444444444444,
              "#bd3786"
             ],
             [
              0.5555555555555556,
              "#d8576b"
             ],
             [
              0.6666666666666666,
              "#ed7953"
             ],
             [
              0.7777777777777778,
              "#fb9f3a"
             ],
             [
              0.8888888888888888,
              "#fdca26"
             ],
             [
              1,
              "#f0f921"
             ]
            ],
            "type": "contour"
           }
          ],
          "contourcarpet": [
           {
            "colorbar": {
             "outlinewidth": 0,
             "ticks": ""
            },
            "type": "contourcarpet"
           }
          ],
          "heatmap": [
           {
            "colorbar": {
             "outlinewidth": 0,
             "ticks": ""
            },
            "colorscale": [
             [
              0,
              "#0d0887"
             ],
             [
              0.1111111111111111,
              "#46039f"
             ],
             [
              0.2222222222222222,
              "#7201a8"
             ],
             [
              0.3333333333333333,
              "#9c179e"
             ],
             [
              0.4444444444444444,
              "#bd3786"
             ],
             [
              0.5555555555555556,
              "#d8576b"
             ],
             [
              0.6666666666666666,
              "#ed7953"
             ],
             [
              0.7777777777777778,
              "#fb9f3a"
             ],
             [
              0.8888888888888888,
              "#fdca26"
             ],
             [
              1,
              "#f0f921"
             ]
            ],
            "type": "heatmap"
           }
          ],
          "heatmapgl": [
           {
            "colorbar": {
             "outlinewidth": 0,
             "ticks": ""
            },
            "colorscale": [
             [
              0,
              "#0d0887"
             ],
             [
              0.1111111111111111,
              "#46039f"
             ],
             [
              0.2222222222222222,
              "#7201a8"
             ],
             [
              0.3333333333333333,
              "#9c179e"
             ],
             [
              0.4444444444444444,
              "#bd3786"
             ],
             [
              0.5555555555555556,
              "#d8576b"
             ],
             [
              0.6666666666666666,
              "#ed7953"
             ],
             [
              0.7777777777777778,
              "#fb9f3a"
             ],
             [
              0.8888888888888888,
              "#fdca26"
             ],
             [
              1,
              "#f0f921"
             ]
            ],
            "type": "heatmapgl"
           }
          ],
          "histogram": [
           {
            "marker": {
             "pattern": {
              "fillmode": "overlay",
              "size": 10,
              "solidity": 0.2
             }
            },
            "type": "histogram"
           }
          ],
          "histogram2d": [
           {
            "colorbar": {
             "outlinewidth": 0,
             "ticks": ""
            },
            "colorscale": [
             [
              0,
              "#0d0887"
             ],
             [
              0.1111111111111111,
              "#46039f"
             ],
             [
              0.2222222222222222,
              "#7201a8"
             ],
             [
              0.3333333333333333,
              "#9c179e"
             ],
             [
              0.4444444444444444,
              "#bd3786"
             ],
             [
              0.5555555555555556,
              "#d8576b"
             ],
             [
              0.6666666666666666,
              "#ed7953"
             ],
             [
              0.7777777777777778,
              "#fb9f3a"
             ],
             [
              0.8888888888888888,
              "#fdca26"
             ],
             [
              1,
              "#f0f921"
             ]
            ],
            "type": "histogram2d"
           }
          ],
          "histogram2dcontour": [
           {
            "colorbar": {
             "outlinewidth": 0,
             "ticks": ""
            },
            "colorscale": [
             [
              0,
              "#0d0887"
             ],
             [
              0.1111111111111111,
              "#46039f"
             ],
             [
              0.2222222222222222,
              "#7201a8"
             ],
             [
              0.3333333333333333,
              "#9c179e"
             ],
             [
              0.4444444444444444,
              "#bd3786"
             ],
             [
              0.5555555555555556,
              "#d8576b"
             ],
             [
              0.6666666666666666,
              "#ed7953"
             ],
             [
              0.7777777777777778,
              "#fb9f3a"
             ],
             [
              0.8888888888888888,
              "#fdca26"
             ],
             [
              1,
              "#f0f921"
             ]
            ],
            "type": "histogram2dcontour"
           }
          ],
          "mesh3d": [
           {
            "colorbar": {
             "outlinewidth": 0,
             "ticks": ""
            },
            "type": "mesh3d"
           }
          ],
          "parcoords": [
           {
            "line": {
             "colorbar": {
              "outlinewidth": 0,
              "ticks": ""
             }
            },
            "type": "parcoords"
           }
          ],
          "pie": [
           {
            "automargin": true,
            "type": "pie"
           }
          ],
          "scatter": [
           {
            "fillpattern": {
             "fillmode": "overlay",
             "size": 10,
             "solidity": 0.2
            },
            "type": "scatter"
           }
          ],
          "scatter3d": [
           {
            "line": {
             "colorbar": {
              "outlinewidth": 0,
              "ticks": ""
             }
            },
            "marker": {
             "colorbar": {
              "outlinewidth": 0,
              "ticks": ""
             }
            },
            "type": "scatter3d"
           }
          ],
          "scattercarpet": [
           {
            "marker": {
             "colorbar": {
              "outlinewidth": 0,
              "ticks": ""
             }
            },
            "type": "scattercarpet"
           }
          ],
          "scattergeo": [
           {
            "marker": {
             "colorbar": {
              "outlinewidth": 0,
              "ticks": ""
             }
            },
            "type": "scattergeo"
           }
          ],
          "scattergl": [
           {
            "marker": {
             "colorbar": {
              "outlinewidth": 0,
              "ticks": ""
             }
            },
            "type": "scattergl"
           }
          ],
          "scattermapbox": [
           {
            "marker": {
             "colorbar": {
              "outlinewidth": 0,
              "ticks": ""
             }
            },
            "type": "scattermapbox"
           }
          ],
          "scatterpolar": [
           {
            "marker": {
             "colorbar": {
              "outlinewidth": 0,
              "ticks": ""
             }
            },
            "type": "scatterpolar"
           }
          ],
          "scatterpolargl": [
           {
            "marker": {
             "colorbar": {
              "outlinewidth": 0,
              "ticks": ""
             }
            },
            "type": "scatterpolargl"
           }
          ],
          "scatterternary": [
           {
            "marker": {
             "colorbar": {
              "outlinewidth": 0,
              "ticks": ""
             }
            },
            "type": "scatterternary"
           }
          ],
          "surface": [
           {
            "colorbar": {
             "outlinewidth": 0,
             "ticks": ""
            },
            "colorscale": [
             [
              0,
              "#0d0887"
             ],
             [
              0.1111111111111111,
              "#46039f"
             ],
             [
              0.2222222222222222,
              "#7201a8"
             ],
             [
              0.3333333333333333,
              "#9c179e"
             ],
             [
              0.4444444444444444,
              "#bd3786"
             ],
             [
              0.5555555555555556,
              "#d8576b"
             ],
             [
              0.6666666666666666,
              "#ed7953"
             ],
             [
              0.7777777777777778,
              "#fb9f3a"
             ],
             [
              0.8888888888888888,
              "#fdca26"
             ],
             [
              1,
              "#f0f921"
             ]
            ],
            "type": "surface"
           }
          ],
          "table": [
           {
            "cells": {
             "fill": {
              "color": "#EBF0F8"
             },
             "line": {
              "color": "white"
             }
            },
            "header": {
             "fill": {
              "color": "#C8D4E3"
             },
             "line": {
              "color": "white"
             }
            },
            "type": "table"
           }
          ]
         },
         "layout": {
          "annotationdefaults": {
           "arrowcolor": "#2a3f5f",
           "arrowhead": 0,
           "arrowwidth": 1
          },
          "autotypenumbers": "strict",
          "coloraxis": {
           "colorbar": {
            "outlinewidth": 0,
            "ticks": ""
           }
          },
          "colorscale": {
           "diverging": [
            [
             0,
             "#8e0152"
            ],
            [
             0.1,
             "#c51b7d"
            ],
            [
             0.2,
             "#de77ae"
            ],
            [
             0.3,
             "#f1b6da"
            ],
            [
             0.4,
             "#fde0ef"
            ],
            [
             0.5,
             "#f7f7f7"
            ],
            [
             0.6,
             "#e6f5d0"
            ],
            [
             0.7,
             "#b8e186"
            ],
            [
             0.8,
             "#7fbc41"
            ],
            [
             0.9,
             "#4d9221"
            ],
            [
             1,
             "#276419"
            ]
           ],
           "sequential": [
            [
             0,
             "#0d0887"
            ],
            [
             0.1111111111111111,
             "#46039f"
            ],
            [
             0.2222222222222222,
             "#7201a8"
            ],
            [
             0.3333333333333333,
             "#9c179e"
            ],
            [
             0.4444444444444444,
             "#bd3786"
            ],
            [
             0.5555555555555556,
             "#d8576b"
            ],
            [
             0.6666666666666666,
             "#ed7953"
            ],
            [
             0.7777777777777778,
             "#fb9f3a"
            ],
            [
             0.8888888888888888,
             "#fdca26"
            ],
            [
             1,
             "#f0f921"
            ]
           ],
           "sequentialminus": [
            [
             0,
             "#0d0887"
            ],
            [
             0.1111111111111111,
             "#46039f"
            ],
            [
             0.2222222222222222,
             "#7201a8"
            ],
            [
             0.3333333333333333,
             "#9c179e"
            ],
            [
             0.4444444444444444,
             "#bd3786"
            ],
            [
             0.5555555555555556,
             "#d8576b"
            ],
            [
             0.6666666666666666,
             "#ed7953"
            ],
            [
             0.7777777777777778,
             "#fb9f3a"
            ],
            [
             0.8888888888888888,
             "#fdca26"
            ],
            [
             1,
             "#f0f921"
            ]
           ]
          },
          "colorway": [
           "#636efa",
           "#EF553B",
           "#00cc96",
           "#ab63fa",
           "#FFA15A",
           "#19d3f3",
           "#FF6692",
           "#B6E880",
           "#FF97FF",
           "#FECB52"
          ],
          "font": {
           "color": "#2a3f5f"
          },
          "geo": {
           "bgcolor": "white",
           "lakecolor": "white",
           "landcolor": "#E5ECF6",
           "showlakes": true,
           "showland": true,
           "subunitcolor": "white"
          },
          "hoverlabel": {
           "align": "left"
          },
          "hovermode": "closest",
          "mapbox": {
           "style": "light"
          },
          "paper_bgcolor": "white",
          "plot_bgcolor": "#E5ECF6",
          "polar": {
           "angularaxis": {
            "gridcolor": "white",
            "linecolor": "white",
            "ticks": ""
           },
           "bgcolor": "#E5ECF6",
           "radialaxis": {
            "gridcolor": "white",
            "linecolor": "white",
            "ticks": ""
           }
          },
          "scene": {
           "xaxis": {
            "backgroundcolor": "#E5ECF6",
            "gridcolor": "white",
            "gridwidth": 2,
            "linecolor": "white",
            "showbackground": true,
            "ticks": "",
            "zerolinecolor": "white"
           },
           "yaxis": {
            "backgroundcolor": "#E5ECF6",
            "gridcolor": "white",
            "gridwidth": 2,
            "linecolor": "white",
            "showbackground": true,
            "ticks": "",
            "zerolinecolor": "white"
           },
           "zaxis": {
            "backgroundcolor": "#E5ECF6",
            "gridcolor": "white",
            "gridwidth": 2,
            "linecolor": "white",
            "showbackground": true,
            "ticks": "",
            "zerolinecolor": "white"
           }
          },
          "shapedefaults": {
           "line": {
            "color": "#2a3f5f"
           }
          },
          "ternary": {
           "aaxis": {
            "gridcolor": "white",
            "linecolor": "white",
            "ticks": ""
           },
           "baxis": {
            "gridcolor": "white",
            "linecolor": "white",
            "ticks": ""
           },
           "bgcolor": "#E5ECF6",
           "caxis": {
            "gridcolor": "white",
            "linecolor": "white",
            "ticks": ""
           }
          },
          "title": {
           "x": 0.05
          },
          "xaxis": {
           "automargin": true,
           "gridcolor": "white",
           "linecolor": "white",
           "ticks": "",
           "title": {
            "standoff": 15
           },
           "zerolinecolor": "white",
           "zerolinewidth": 2
          },
          "yaxis": {
           "automargin": true,
           "gridcolor": "white",
           "linecolor": "white",
           "ticks": "",
           "title": {
            "standoff": 15
           },
           "zerolinecolor": "white",
           "zerolinewidth": 2
          }
         }
        },
        "title": {
         "text": "Frequency distribution"
        },
        "xaxis": {
         "anchor": "y",
         "domain": [
          0,
          1
         ],
         "title": {
          "text": "state"
         }
        },
        "yaxis": {
         "anchor": "x",
         "domain": [
          0,
          1
         ],
         "title": {
          "text": "count"
         }
        }
       }
      },
      "text/html": [
       "<div>                            <div id=\"25549268-8bd4-44e7-9809-288a4c4fe9c4\" class=\"plotly-graph-div\" style=\"height:525px; width:100%;\"></div>            <script type=\"text/javascript\">                require([\"plotly\"], function(Plotly) {                    window.PLOTLYENV=window.PLOTLYENV || {};                                    if (document.getElementById(\"25549268-8bd4-44e7-9809-288a4c4fe9c4\")) {                    Plotly.newPlot(                        \"25549268-8bd4-44e7-9809-288a4c4fe9c4\",                        [{\"alignmentgroup\":\"True\",\"hovertemplate\":\"state=%{x}\\u003cbr\\u003ecount=%{y}\\u003cextra\\u003e\\u003c\\u002fextra\\u003e\",\"legendgroup\":\"\",\"marker\":{\"color\":\"#636efa\",\"pattern\":{\"shape\":\"\"}},\"name\":\"\",\"offsetgroup\":\"\",\"orientation\":\"v\",\"showlegend\":false,\"textposition\":\"auto\",\"x\":[\"0 0\",\"0 0\",\"0 0\",\"0 0\",\"0 0\",\"0 0\",\"0 0\",\"0 0\",\"0 0\",\"0 0\",\"0 0\",\"0 0\",\"0 0\",\"0 0\",\"1 1\",\"0 0\",\"0 0\",\"0 0\",\"0 0\",\"0 0\",\"0 0\",\"0 0\",\"0 0\",\"0 0\",\"0 0\",\"0 0\",\"0 0\",\"0 0\",\"0 0\",\"0 0\",\"0 0\",\"0 0\",\"0 0\",\"0 0\",\"0 0\",\"0 0\",\"0 0\",\"0 0\",\"0 0\",\"0 0\",\"0 0\",\"0 0\",\"0 0\",\"0 0\",\"0 0\",\"0 0\",\"0 0\",\"0 0\",\"0 0\",\"0 0\",\"0 0\",\"0 0\",\"0 0\",\"0 0\",\"0 0\",\"0 0\",\"0 0\",\"0 0\",\"0 0\",\"0 0\",\"0 0\",\"0 0\",\"0 0\",\"0 0\",\"0 0\",\"0 0\",\"0 0\",\"1 1\",\"0 0\",\"0 0\",\"0 0\",\"0 0\",\"0 0\",\"0 0\",\"0 0\",\"0 0\",\"0 0\",\"0 0\",\"0 0\",\"0 0\",\"0 0\",\"0 0\",\"1 1\",\"0 0\",\"0 0\",\"0 0\",\"0 0\",\"0 0\",\"0 0\",\"0 0\",\"0 0\",\"0 0\",\"0 0\",\"0 0\",\"0 0\",\"1 1\",\"0 0\",\"0 0\",\"0 0\",\"0 0\",\"0 0\",\"0 0\",\"1 1\",\"0 0\",\"0 0\",\"0 0\",\"0 0\",\"0 0\",\"0 0\",\"0 0\",\"0 0\",\"0 0\",\"0 0\",\"1 1\",\"0 0\",\"0 0\",\"0 0\",\"0 0\",\"0 0\",\"0 0\",\"0 0\",\"0 0\",\"0 0\",\"0 0\",\"0 0\",\"0 0\",\"0 0\",\"0 0\",\"0 0\",\"0 0\",\"1 1\",\"0 0\",\"0 0\",\"0 0\",\"0 0\",\"1 1\",\"0 0\",\"0 0\",\"0 0\",\"0 0\",\"0 0\",\"1 1\",\"1 1\",\"0 0\",\"0 0\",\"0 0\",\"0 0\",\"0 0\",\"1 1\",\"0 0\",\"1 1\",\"0 0\",\"0 0\",\"0 0\",\"0 0\",\"1 1\",\"0 0\",\"0 0\",\"0 0\",\"0 0\",\"0 0\",\"0 0\",\"0 0\",\"0 0\",\"0 0\",\"0 0\",\"0 0\",\"1 1\",\"0 0\",\"1 1\",\"0 0\",\"0 0\",\"0 0\",\"0 0\",\"1 1\",\"0 0\",\"0 0\",\"0 0\",\"1 1\",\"0 0\",\"0 0\",\"0 0\",\"0 0\",\"0 0\",\"0 0\",\"0 0\",\"1 1\",\"1 1\",\"0 0\",\"0 0\",\"0 0\",\"0 0\",\"0 0\",\"0 0\",\"0 0\",\"0 0\",\"0 0\",\"1 1\",\"0 0\",\"0 0\",\"0 0\",\"0 0\",\"0 0\",\"0 0\",\"0 0\",\"0 0\",\"0 0\",\"0 0\",\"0 0\",\"1 1\",\"0 0\",\"0 0\",\"0 0\",\"0 0\",\"0 0\",\"0 0\",\"0 0\",\"0 0\",\"0 0\",\"0 0\",\"0 0\",\"0 0\",\"0 0\",\"0 0\",\"1 1\",\"0 0\",\"0 0\",\"0 0\",\"0 0\",\"0 0\",\"0 0\",\"0 0\",\"0 0\",\"0 0\",\"0 0\",\"1 1\",\"0 0\",\"0 0\",\"0 0\",\"0 0\",\"0 0\",\"0 0\",\"0 0\",\"0 0\",\"1 1\",\"0 0\",\"1 1\",\"0 0\",\"0 0\",\"0 0\",\"0 0\",\"0 0\",\"0 0\",\"0 0\",\"0 0\",\"0 0\",\"0 0\",\"0 0\",\"0 0\",\"0 0\",\"0 0\",\"0 0\",\"0 0\",\"0 0\",\"0 0\",\"0 0\",\"0 0\",\"1 1\",\"0 0\",\"0 0\",\"0 0\",\"0 0\",\"0 0\",\"0 0\",\"0 0\",\"0 0\",\"0 0\",\"0 0\",\"0 0\",\"0 0\",\"0 0\",\"0 0\",\"0 0\",\"0 0\",\"0 0\",\"0 0\",\"0 0\",\"0 0\",\"0 0\",\"0 0\",\"1 1\",\"0 0\",\"0 0\",\"0 0\",\"0 0\",\"0 0\",\"0 0\",\"0 0\",\"0 0\",\"0 0\",\"0 0\",\"1 1\",\"0 0\",\"0 0\",\"0 0\",\"0 0\",\"0 0\",\"0 0\",\"0 0\",\"0 0\",\"0 0\",\"0 0\",\"0 0\",\"0 0\",\"0 0\",\"0 0\",\"1 1\",\"0 0\",\"1 1\",\"0 0\",\"1 1\",\"0 0\",\"0 0\",\"0 0\",\"0 0\",\"0 0\",\"0 0\",\"0 0\",\"1 1\",\"0 0\",\"0 0\",\"0 0\",\"0 0\",\"0 0\",\"0 0\",\"0 0\",\"0 0\",\"0 0\",\"1 1\",\"0 0\",\"0 0\",\"0 0\",\"0 0\",\"0 0\",\"0 0\",\"0 0\",\"0 0\",\"0 0\",\"0 0\",\"0 0\",\"0 0\",\"1 1\",\"0 0\",\"1 1\",\"0 0\",\"0 0\",\"0 0\",\"0 0\",\"0 0\",\"0 0\",\"0 0\",\"0 0\",\"0 0\",\"0 0\",\"0 0\",\"0 0\",\"0 0\",\"1 1\",\"0 0\",\"0 0\",\"0 0\",\"0 0\",\"0 0\",\"0 0\",\"1 1\",\"0 0\",\"0 0\",\"0 0\",\"0 0\",\"1 1\",\"0 0\",\"0 0\",\"0 0\",\"0 0\",\"0 0\",\"0 0\",\"0 0\",\"0 0\",\"0 0\",\"0 0\",\"0 0\",\"0 0\",\"0 0\",\"0 0\",\"0 0\",\"0 0\",\"0 0\",\"0 0\",\"0 0\",\"0 0\",\"0 0\",\"0 0\",\"0 0\",\"0 0\",\"0 0\",\"0 0\",\"0 0\",\"0 0\",\"0 0\",\"0 0\",\"0 0\",\"0 0\",\"0 0\",\"0 0\",\"0 0\",\"0 0\",\"0 0\",\"0 0\",\"0 0\",\"0 0\",\"0 0\",\"0 0\",\"0 0\",\"0 0\",\"0 0\",\"0 0\",\"0 0\",\"0 0\",\"0 0\",\"0 0\",\"0 0\",\"0 0\",\"0 0\",\"0 0\",\"0 0\",\"0 0\",\"0 0\",\"0 0\",\"0 0\",\"0 0\",\"0 0\",\"0 0\",\"0 0\",\"0 0\",\"0 0\",\"0 0\",\"0 0\",\"0 0\",\"0 0\",\"1 1\",\"0 0\",\"0 0\",\"0 0\",\"0 0\",\"0 0\",\"0 0\",\"1 1\",\"0 0\",\"0 0\",\"0 0\",\"0 0\",\"1 1\",\"0 0\",\"0 0\",\"0 0\",\"0 0\",\"0 0\",\"0 0\",\"0 0\",\"0 0\",\"0 0\",\"0 0\",\"0 0\",\"0 0\",\"0 0\",\"0 0\",\"0 0\",\"0 0\",\"0 0\",\"0 0\",\"0 0\",\"0 0\",\"0 0\",\"0 0\",\"0 0\",\"0 0\",\"0 0\",\"0 0\",\"0 0\",\"0 0\",\"0 0\",\"1 1\",\"0 0\",\"0 0\",\"0 0\",\"0 0\",\"1 1\",\"0 0\",\"0 0\",\"0 0\",\"1 1\",\"0 0\",\"1 1\",\"0 0\",\"0 0\",\"0 0\",\"0 0\",\"0 0\",\"0 0\",\"0 0\",\"0 0\",\"0 0\",\"1 1\",\"0 0\",\"0 0\",\"0 0\",\"0 0\",\"0 0\",\"0 0\",\"0 0\",\"0 0\",\"0 0\",\"0 0\",\"0 0\",\"0 0\",\"0 0\",\"0 0\",\"1 1\",\"0 0\",\"0 0\",\"0 0\",\"0 0\",\"0 0\",\"0 0\",\"0 0\",\"0 0\",\"0 0\",\"0 0\",\"1 1\",\"0 0\",\"0 0\",\"0 0\",\"0 0\",\"0 0\",\"0 0\",\"1 1\",\"0 0\",\"0 0\",\"0 0\",\"0 0\",\"1 1\",\"0 0\",\"0 0\",\"0 0\",\"0 0\",\"0 0\",\"0 0\",\"0 0\",\"0 0\",\"0 0\",\"0 0\",\"0 0\",\"0 0\",\"0 0\",\"1 1\",\"1 1\",\"0 0\",\"0 0\",\"1 1\",\"0 0\",\"0 0\",\"0 0\",\"0 0\",\"0 0\",\"0 0\",\"0 0\",\"0 0\",\"0 0\",\"0 0\",\"0 0\",\"0 0\",\"0 0\",\"0 0\",\"0 0\",\"0 0\",\"0 0\",\"1 1\",\"0 0\",\"0 0\",\"0 0\",\"0 0\",\"0 0\",\"0 0\",\"0 0\",\"1 1\",\"0 0\",\"0 0\",\"0 0\",\"0 0\",\"0 0\",\"0 0\",\"0 0\",\"0 0\",\"0 0\",\"0 0\",\"0 0\",\"0 0\",\"0 0\",\"1 1\",\"0 0\",\"0 0\",\"0 0\",\"0 0\",\"0 0\",\"0 0\",\"0 0\",\"0 0\",\"0 0\",\"0 0\",\"0 0\",\"0 0\",\"0 0\",\"0 0\",\"0 0\",\"0 0\",\"0 0\",\"0 0\",\"0 0\",\"1 1\",\"0 0\",\"0 0\",\"0 0\",\"0 0\",\"1 1\",\"0 0\",\"0 0\",\"0 0\",\"0 0\",\"0 0\",\"1 1\",\"0 0\",\"0 0\",\"0 0\",\"0 0\",\"0 0\",\"0 0\",\"0 0\",\"0 0\",\"0 0\",\"1 1\",\"0 0\",\"0 0\",\"0 0\",\"0 0\",\"0 0\",\"0 0\",\"0 0\",\"0 0\",\"0 0\",\"0 0\",\"0 0\",\"0 0\",\"0 0\",\"0 0\",\"0 0\",\"0 0\",\"0 0\",\"0 0\",\"0 0\",\"0 0\",\"0 0\",\"0 0\",\"0 0\",\"0 0\",\"0 0\",\"0 0\",\"0 0\",\"0 0\",\"0 0\",\"0 0\",\"0 0\",\"0 0\",\"0 0\",\"0 0\",\"1 1\",\"1 1\",\"0 0\",\"0 0\",\"0 0\",\"0 0\",\"0 0\",\"0 0\",\"0 0\",\"0 0\",\"0 0\",\"0 0\",\"0 0\",\"0 0\",\"0 0\",\"0 0\",\"1 1\",\"0 0\",\"0 0\",\"0 0\",\"1 1\",\"0 0\",\"0 0\",\"0 0\",\"1 1\",\"0 0\",\"0 0\",\"0 0\",\"0 0\",\"0 0\",\"0 0\",\"0 0\",\"1 1\",\"0 0\",\"0 0\",\"0 0\",\"1 1\",\"0 0\",\"0 0\",\"0 0\",\"0 0\",\"0 0\",\"0 0\",\"1 1\",\"0 0\",\"0 0\",\"0 0\",\"1 1\",\"0 0\",\"0 0\",\"0 0\",\"0 0\",\"0 0\",\"0 0\",\"0 0\",\"1 1\",\"0 0\",\"1 1\",\"0 0\",\"0 0\",\"1 1\",\"0 0\",\"0 0\",\"0 0\",\"0 0\",\"0 0\",\"0 0\",\"0 0\",\"0 0\",\"0 0\",\"0 0\",\"0 0\",\"0 0\",\"0 0\",\"0 0\",\"0 0\",\"0 0\",\"0 0\",\"0 0\",\"0 0\",\"0 0\",\"0 0\",\"0 0\",\"0 0\",\"0 0\",\"0 0\",\"0 0\",\"0 0\",\"0 0\",\"0 0\",\"0 0\",\"0 0\",\"0 0\",\"0 0\",\"0 0\",\"0 0\",\"0 0\",\"0 0\",\"0 0\",\"0 0\",\"0 0\",\"0 0\",\"0 0\",\"0 0\",\"0 0\",\"0 0\",\"0 0\",\"0 0\",\"0 0\",\"1 1\",\"0 0\",\"0 0\",\"1 1\",\"0 0\",\"0 0\",\"0 0\",\"0 0\",\"0 0\",\"1 1\",\"0 0\",\"1 1\",\"0 0\",\"0 0\",\"0 0\",\"0 0\",\"1 1\",\"1 1\",\"0 0\",\"0 0\",\"0 0\",\"1 1\",\"0 0\",\"0 0\",\"0 0\",\"1 1\",\"0 0\",\"0 0\",\"0 0\",\"0 0\",\"0 0\",\"0 0\",\"0 0\",\"0 0\",\"0 0\",\"0 0\",\"1 1\",\"0 0\",\"0 0\",\"0 0\",\"0 0\",\"0 0\",\"0 0\",\"0 0\",\"0 0\",\"0 0\",\"0 0\",\"0 0\",\"1 1\",\"0 0\",\"0 0\",\"0 0\",\"0 0\",\"0 0\",\"0 0\",\"1 1\",\"0 0\",\"0 0\",\"0 0\",\"0 0\",\"0 0\",\"1 1\",\"0 0\",\"0 0\",\"1 1\",\"0 0\",\"0 0\",\"0 0\",\"0 0\",\"0 0\",\"0 0\",\"0 0\",\"0 0\",\"0 0\",\"0 0\",\"1 1\",\"0 0\",\"0 0\",\"0 0\",\"0 0\",\"0 0\",\"1 1\",\"0 0\",\"0 0\",\"0 0\",\"0 0\",\"0 0\",\"0 0\",\"0 0\",\"0 0\",\"0 0\",\"0 0\",\"1 1\",\"0 0\",\"0 0\",\"0 0\",\"0 0\",\"1 1\",\"1 1\",\"0 0\",\"0 0\",\"0 0\",\"0 0\",\"0 0\",\"0 0\",\"0 0\",\"0 0\",\"0 0\",\"0 0\",\"0 0\",\"0 0\",\"0 0\",\"0 0\",\"1 1\",\"0 0\",\"1 1\",\"0 0\",\"0 0\",\"0 0\",\"1 1\",\"0 0\",\"0 0\",\"0 0\",\"0 0\",\"0 0\",\"0 0\",\"0 0\",\"0 0\",\"0 0\",\"0 0\",\"1 1\",\"0 0\",\"1 1\",\"0 0\",\"0 0\",\"0 0\",\"0 0\",\"0 0\",\"0 0\",\"0 0\",\"0 0\",\"0 0\",\"0 0\",\"1 1\",\"0 0\",\"0 0\",\"0 0\",\"1 1\",\"0 0\",\"0 0\",\"0 0\",\"0 0\",\"0 0\",\"0 0\",\"0 0\",\"0 0\",\"0 0\",\"0 0\",\"0 0\",\"0 0\",\"0 0\",\"0 0\",\"0 0\",\"1 1\",\"1 1\",\"0 0\",\"0 0\",\"0 0\",\"0 0\",\"0 0\",\"0 0\",\"1 1\",\"0 0\",\"0 0\",\"0 0\",\"0 0\",\"0 0\",\"0 0\",\"0 0\",\"0 0\",\"0 0\",\"1 1\",\"1 1\",\"0 0\",\"0 0\",\"0 0\",\"1 1\",\"1 1\",\"0 0\",\"0 0\",\"0 0\",\"0 0\",\"0 0\",\"0 0\",\"0 0\",\"0 0\",\"0 0\",\"0 0\",\"0 0\",\"0 0\",\"0 0\",\"0 0\",\"0 0\",\"0 0\",\"1 1\",\"0 0\",\"0 0\"],\"xaxis\":\"x\",\"y\":[1,1,1,1,1,1,1,1,1,1,1,1,1,1,1,1,1,1,1,1,1,1,1,1,1,1,1,1,1,1,1,1,1,1,1,1,1,1,1,1,1,1,1,1,1,1,1,1,1,1,1,1,1,1,1,1,1,1,1,1,1,1,1,1,1,1,1,1,1,1,1,1,1,1,1,1,1,1,1,1,1,1,1,1,1,1,1,1,1,1,1,1,1,1,1,1,1,1,1,1,1,1,1,1,1,1,1,1,1,1,1,1,1,1,1,1,1,1,1,1,1,1,1,1,1,1,1,1,1,1,1,1,1,1,1,1,1,1,1,1,1,1,1,1,1,1,1,1,1,1,1,1,1,1,1,1,1,1,1,1,1,1,1,1,1,1,1,1,1,1,1,1,1,1,1,1,1,1,1,1,1,1,1,1,1,1,1,1,1,1,1,1,1,1,1,1,1,1,1,1,1,1,1,1,1,1,1,1,1,1,1,1,1,1,1,1,1,1,1,1,1,1,1,1,1,1,1,1,1,1,1,1,1,1,1,1,1,1,1,1,1,1,1,1,1,1,1,1,1,1,1,1,1,1,1,1,1,1,1,1,1,1,1,1,1,1,1,1,1,1,1,1,1,1,1,1,1,1,1,1,1,1,1,1,1,1,1,1,1,1,1,1,1,1,1,1,1,1,1,1,1,1,1,1,1,1,1,1,1,1,1,1,1,1,1,1,1,1,1,1,1,1,1,1,1,1,1,1,1,1,1,1,1,1,1,1,1,1,1,1,1,1,1,1,1,1,1,1,1,1,1,1,1,1,1,1,1,1,1,1,1,1,1,1,1,1,1,1,1,1,1,1,1,1,1,1,1,1,1,1,1,1,1,1,1,1,1,1,1,1,1,1,1,1,1,1,1,1,1,1,1,1,1,1,1,1,1,1,1,1,1,1,1,1,1,1,1,1,1,1,1,1,1,1,1,1,1,1,1,1,1,1,1,1,1,1,1,1,1,1,1,1,1,1,1,1,1,1,1,1,1,1,1,1,1,1,1,1,1,1,1,1,1,1,1,1,1,1,1,1,1,1,1,1,1,1,1,1,1,1,1,1,1,1,1,1,1,1,1,1,1,1,1,1,1,1,1,1,1,1,1,1,1,1,1,1,1,1,1,1,1,1,1,1,1,1,1,1,1,1,1,1,1,1,1,1,1,1,1,1,1,1,1,1,1,1,1,1,1,1,1,1,1,1,1,1,1,1,1,1,1,1,1,1,1,1,1,1,1,1,1,1,1,1,1,1,1,1,1,1,1,1,1,1,1,1,1,1,1,1,1,1,1,1,1,1,1,1,1,1,1,1,1,1,1,1,1,1,1,1,1,1,1,1,1,1,1,1,1,1,1,1,1,1,1,1,1,1,1,1,1,1,1,1,1,1,1,1,1,1,1,1,1,1,1,1,1,1,1,1,1,1,1,1,1,1,1,1,1,1,1,1,1,1,1,1,1,1,1,1,1,1,1,1,1,1,1,1,1,1,1,1,1,1,1,1,1,1,1,1,1,1,1,1,1,1,1,1,1,1,1,1,1,1,1,1,1,1,1,1,1,1,1,1,1,1,1,1,1,1,1,1,1,1,1,1,1,1,1,1,1,1,1,1,1,1,1,1,1,1,1,1,1,1,1,1,1,1,1,1,1,1,1,1,1,1,1,1,1,1,1,1,1,1,1,1,1,1,1,1,1,1,1,1,1,1,1,1,1,1,1,1,1,1,1,1,1,1,1,1,1,1,1,1,1,1,1,1,1,1,1,1,1,1,1,1,1,1,1,1,1,1,1,1,1,1,1,1,1,1,1,1,1,1,1,1,1,1,1,1,1,1,1,1,1,1,1,1,1,1,1,1,1,1,1,1,1,1,1,1,1,1,1,1,1,1,1,1,1,1,1,1,1,1,1,1,1,1,1,1,1,1,1,1,1,1,1,1,1,1,1,1,1,1,1,1,1,1,1,1,1,1,1,1,1,1,1,1,1,1,1,1,1,1,1,1,1,1,1,1,1,1,1,1,1,1,1,1,1,1,1,1,1,1,1,1,1,1,1,1,1,1,1,1,1,1,1,1,1,1,1,1,1,1,1,1,1,1,1,1,1,1,1,1,1,1,1,1,1,1,1,1,1,1,1,1,1,1,1,1,1,1,1,1,1,1,1,1,1,1,1,1,1,1,1,1,1,1,1,1,1,1,1,1,1,1,1,1,1,1,1,1,1,1,1,1,1,1,1,1],\"yaxis\":\"y\",\"type\":\"bar\"}],                        {\"template\":{\"data\":{\"histogram2dcontour\":[{\"type\":\"histogram2dcontour\",\"colorbar\":{\"outlinewidth\":0,\"ticks\":\"\"},\"colorscale\":[[0.0,\"#0d0887\"],[0.1111111111111111,\"#46039f\"],[0.2222222222222222,\"#7201a8\"],[0.3333333333333333,\"#9c179e\"],[0.4444444444444444,\"#bd3786\"],[0.5555555555555556,\"#d8576b\"],[0.6666666666666666,\"#ed7953\"],[0.7777777777777778,\"#fb9f3a\"],[0.8888888888888888,\"#fdca26\"],[1.0,\"#f0f921\"]]}],\"choropleth\":[{\"type\":\"choropleth\",\"colorbar\":{\"outlinewidth\":0,\"ticks\":\"\"}}],\"histogram2d\":[{\"type\":\"histogram2d\",\"colorbar\":{\"outlinewidth\":0,\"ticks\":\"\"},\"colorscale\":[[0.0,\"#0d0887\"],[0.1111111111111111,\"#46039f\"],[0.2222222222222222,\"#7201a8\"],[0.3333333333333333,\"#9c179e\"],[0.4444444444444444,\"#bd3786\"],[0.5555555555555556,\"#d8576b\"],[0.6666666666666666,\"#ed7953\"],[0.7777777777777778,\"#fb9f3a\"],[0.8888888888888888,\"#fdca26\"],[1.0,\"#f0f921\"]]}],\"heatmap\":[{\"type\":\"heatmap\",\"colorbar\":{\"outlinewidth\":0,\"ticks\":\"\"},\"colorscale\":[[0.0,\"#0d0887\"],[0.1111111111111111,\"#46039f\"],[0.2222222222222222,\"#7201a8\"],[0.3333333333333333,\"#9c179e\"],[0.4444444444444444,\"#bd3786\"],[0.5555555555555556,\"#d8576b\"],[0.6666666666666666,\"#ed7953\"],[0.7777777777777778,\"#fb9f3a\"],[0.8888888888888888,\"#fdca26\"],[1.0,\"#f0f921\"]]}],\"heatmapgl\":[{\"type\":\"heatmapgl\",\"colorbar\":{\"outlinewidth\":0,\"ticks\":\"\"},\"colorscale\":[[0.0,\"#0d0887\"],[0.1111111111111111,\"#46039f\"],[0.2222222222222222,\"#7201a8\"],[0.3333333333333333,\"#9c179e\"],[0.4444444444444444,\"#bd3786\"],[0.5555555555555556,\"#d8576b\"],[0.6666666666666666,\"#ed7953\"],[0.7777777777777778,\"#fb9f3a\"],[0.8888888888888888,\"#fdca26\"],[1.0,\"#f0f921\"]]}],\"contourcarpet\":[{\"type\":\"contourcarpet\",\"colorbar\":{\"outlinewidth\":0,\"ticks\":\"\"}}],\"contour\":[{\"type\":\"contour\",\"colorbar\":{\"outlinewidth\":0,\"ticks\":\"\"},\"colorscale\":[[0.0,\"#0d0887\"],[0.1111111111111111,\"#46039f\"],[0.2222222222222222,\"#7201a8\"],[0.3333333333333333,\"#9c179e\"],[0.4444444444444444,\"#bd3786\"],[0.5555555555555556,\"#d8576b\"],[0.6666666666666666,\"#ed7953\"],[0.7777777777777778,\"#fb9f3a\"],[0.8888888888888888,\"#fdca26\"],[1.0,\"#f0f921\"]]}],\"surface\":[{\"type\":\"surface\",\"colorbar\":{\"outlinewidth\":0,\"ticks\":\"\"},\"colorscale\":[[0.0,\"#0d0887\"],[0.1111111111111111,\"#46039f\"],[0.2222222222222222,\"#7201a8\"],[0.3333333333333333,\"#9c179e\"],[0.4444444444444444,\"#bd3786\"],[0.5555555555555556,\"#d8576b\"],[0.6666666666666666,\"#ed7953\"],[0.7777777777777778,\"#fb9f3a\"],[0.8888888888888888,\"#fdca26\"],[1.0,\"#f0f921\"]]}],\"mesh3d\":[{\"type\":\"mesh3d\",\"colorbar\":{\"outlinewidth\":0,\"ticks\":\"\"}}],\"scatter\":[{\"fillpattern\":{\"fillmode\":\"overlay\",\"size\":10,\"solidity\":0.2},\"type\":\"scatter\"}],\"parcoords\":[{\"type\":\"parcoords\",\"line\":{\"colorbar\":{\"outlinewidth\":0,\"ticks\":\"\"}}}],\"scatterpolargl\":[{\"type\":\"scatterpolargl\",\"marker\":{\"colorbar\":{\"outlinewidth\":0,\"ticks\":\"\"}}}],\"bar\":[{\"error_x\":{\"color\":\"#2a3f5f\"},\"error_y\":{\"color\":\"#2a3f5f\"},\"marker\":{\"line\":{\"color\":\"#E5ECF6\",\"width\":0.5},\"pattern\":{\"fillmode\":\"overlay\",\"size\":10,\"solidity\":0.2}},\"type\":\"bar\"}],\"scattergeo\":[{\"type\":\"scattergeo\",\"marker\":{\"colorbar\":{\"outlinewidth\":0,\"ticks\":\"\"}}}],\"scatterpolar\":[{\"type\":\"scatterpolar\",\"marker\":{\"colorbar\":{\"outlinewidth\":0,\"ticks\":\"\"}}}],\"histogram\":[{\"marker\":{\"pattern\":{\"fillmode\":\"overlay\",\"size\":10,\"solidity\":0.2}},\"type\":\"histogram\"}],\"scattergl\":[{\"type\":\"scattergl\",\"marker\":{\"colorbar\":{\"outlinewidth\":0,\"ticks\":\"\"}}}],\"scatter3d\":[{\"type\":\"scatter3d\",\"line\":{\"colorbar\":{\"outlinewidth\":0,\"ticks\":\"\"}},\"marker\":{\"colorbar\":{\"outlinewidth\":0,\"ticks\":\"\"}}}],\"scattermapbox\":[{\"type\":\"scattermapbox\",\"marker\":{\"colorbar\":{\"outlinewidth\":0,\"ticks\":\"\"}}}],\"scatterternary\":[{\"type\":\"scatterternary\",\"marker\":{\"colorbar\":{\"outlinewidth\":0,\"ticks\":\"\"}}}],\"scattercarpet\":[{\"type\":\"scattercarpet\",\"marker\":{\"colorbar\":{\"outlinewidth\":0,\"ticks\":\"\"}}}],\"carpet\":[{\"aaxis\":{\"endlinecolor\":\"#2a3f5f\",\"gridcolor\":\"white\",\"linecolor\":\"white\",\"minorgridcolor\":\"white\",\"startlinecolor\":\"#2a3f5f\"},\"baxis\":{\"endlinecolor\":\"#2a3f5f\",\"gridcolor\":\"white\",\"linecolor\":\"white\",\"minorgridcolor\":\"white\",\"startlinecolor\":\"#2a3f5f\"},\"type\":\"carpet\"}],\"table\":[{\"cells\":{\"fill\":{\"color\":\"#EBF0F8\"},\"line\":{\"color\":\"white\"}},\"header\":{\"fill\":{\"color\":\"#C8D4E3\"},\"line\":{\"color\":\"white\"}},\"type\":\"table\"}],\"barpolar\":[{\"marker\":{\"line\":{\"color\":\"#E5ECF6\",\"width\":0.5},\"pattern\":{\"fillmode\":\"overlay\",\"size\":10,\"solidity\":0.2}},\"type\":\"barpolar\"}],\"pie\":[{\"automargin\":true,\"type\":\"pie\"}]},\"layout\":{\"autotypenumbers\":\"strict\",\"colorway\":[\"#636efa\",\"#EF553B\",\"#00cc96\",\"#ab63fa\",\"#FFA15A\",\"#19d3f3\",\"#FF6692\",\"#B6E880\",\"#FF97FF\",\"#FECB52\"],\"font\":{\"color\":\"#2a3f5f\"},\"hovermode\":\"closest\",\"hoverlabel\":{\"align\":\"left\"},\"paper_bgcolor\":\"white\",\"plot_bgcolor\":\"#E5ECF6\",\"polar\":{\"bgcolor\":\"#E5ECF6\",\"angularaxis\":{\"gridcolor\":\"white\",\"linecolor\":\"white\",\"ticks\":\"\"},\"radialaxis\":{\"gridcolor\":\"white\",\"linecolor\":\"white\",\"ticks\":\"\"}},\"ternary\":{\"bgcolor\":\"#E5ECF6\",\"aaxis\":{\"gridcolor\":\"white\",\"linecolor\":\"white\",\"ticks\":\"\"},\"baxis\":{\"gridcolor\":\"white\",\"linecolor\":\"white\",\"ticks\":\"\"},\"caxis\":{\"gridcolor\":\"white\",\"linecolor\":\"white\",\"ticks\":\"\"}},\"coloraxis\":{\"colorbar\":{\"outlinewidth\":0,\"ticks\":\"\"}},\"colorscale\":{\"sequential\":[[0.0,\"#0d0887\"],[0.1111111111111111,\"#46039f\"],[0.2222222222222222,\"#7201a8\"],[0.3333333333333333,\"#9c179e\"],[0.4444444444444444,\"#bd3786\"],[0.5555555555555556,\"#d8576b\"],[0.6666666666666666,\"#ed7953\"],[0.7777777777777778,\"#fb9f3a\"],[0.8888888888888888,\"#fdca26\"],[1.0,\"#f0f921\"]],\"sequentialminus\":[[0.0,\"#0d0887\"],[0.1111111111111111,\"#46039f\"],[0.2222222222222222,\"#7201a8\"],[0.3333333333333333,\"#9c179e\"],[0.4444444444444444,\"#bd3786\"],[0.5555555555555556,\"#d8576b\"],[0.6666666666666666,\"#ed7953\"],[0.7777777777777778,\"#fb9f3a\"],[0.8888888888888888,\"#fdca26\"],[1.0,\"#f0f921\"]],\"diverging\":[[0,\"#8e0152\"],[0.1,\"#c51b7d\"],[0.2,\"#de77ae\"],[0.3,\"#f1b6da\"],[0.4,\"#fde0ef\"],[0.5,\"#f7f7f7\"],[0.6,\"#e6f5d0\"],[0.7,\"#b8e186\"],[0.8,\"#7fbc41\"],[0.9,\"#4d9221\"],[1,\"#276419\"]]},\"xaxis\":{\"gridcolor\":\"white\",\"linecolor\":\"white\",\"ticks\":\"\",\"title\":{\"standoff\":15},\"zerolinecolor\":\"white\",\"automargin\":true,\"zerolinewidth\":2},\"yaxis\":{\"gridcolor\":\"white\",\"linecolor\":\"white\",\"ticks\":\"\",\"title\":{\"standoff\":15},\"zerolinecolor\":\"white\",\"automargin\":true,\"zerolinewidth\":2},\"scene\":{\"xaxis\":{\"backgroundcolor\":\"#E5ECF6\",\"gridcolor\":\"white\",\"linecolor\":\"white\",\"showbackground\":true,\"ticks\":\"\",\"zerolinecolor\":\"white\",\"gridwidth\":2},\"yaxis\":{\"backgroundcolor\":\"#E5ECF6\",\"gridcolor\":\"white\",\"linecolor\":\"white\",\"showbackground\":true,\"ticks\":\"\",\"zerolinecolor\":\"white\",\"gridwidth\":2},\"zaxis\":{\"backgroundcolor\":\"#E5ECF6\",\"gridcolor\":\"white\",\"linecolor\":\"white\",\"showbackground\":true,\"ticks\":\"\",\"zerolinecolor\":\"white\",\"gridwidth\":2}},\"shapedefaults\":{\"line\":{\"color\":\"#2a3f5f\"}},\"annotationdefaults\":{\"arrowcolor\":\"#2a3f5f\",\"arrowhead\":0,\"arrowwidth\":1},\"geo\":{\"bgcolor\":\"white\",\"landcolor\":\"#E5ECF6\",\"subunitcolor\":\"white\",\"showland\":true,\"showlakes\":true,\"lakecolor\":\"white\"},\"title\":{\"x\":0.05},\"mapbox\":{\"style\":\"light\"}}},\"xaxis\":{\"anchor\":\"y\",\"domain\":[0.0,1.0],\"title\":{\"text\":\"state\"}},\"yaxis\":{\"anchor\":\"x\",\"domain\":[0.0,1.0],\"title\":{\"text\":\"count\"}},\"legend\":{\"tracegroupgap\":0},\"title\":{\"text\":\"Frequency distribution\"},\"barmode\":\"relative\"},                        {\"responsive\": true}                    ).then(function(){\n",
       "                            \n",
       "var gd = document.getElementById('25549268-8bd4-44e7-9809-288a4c4fe9c4');\n",
       "var x = new MutationObserver(function (mutations, observer) {{\n",
       "        var display = window.getComputedStyle(gd).display;\n",
       "        if (!display || display === 'none') {{\n",
       "            console.log([gd, 'removed!']);\n",
       "            Plotly.purge(gd);\n",
       "            observer.disconnect();\n",
       "        }}\n",
       "}});\n",
       "\n",
       "// Listen for the removal of the full notebook cells\n",
       "var notebookContainer = gd.closest('#notebook-container');\n",
       "if (notebookContainer) {{\n",
       "    x.observe(notebookContainer, {childList: true});\n",
       "}}\n",
       "\n",
       "// Listen for the clearing of the current output cell\n",
       "var outputEl = gd.closest('.output');\n",
       "if (outputEl) {{\n",
       "    x.observe(outputEl, {childList: true});\n",
       "}}\n",
       "\n",
       "                        })                };                });            </script>        </div>"
      ]
     },
     "metadata": {},
     "output_type": "display_data"
    }
   ],
   "source": [
    "sampleset['state'] = sampleset.apply(lambda row: f\"{int((row[0]+1)/2)} {int((row[1]+1)/2)}\", axis=1)\n",
    "px.bar(sampleset, x='state', title='Frequency distribution')"
   ]
  },
  {
   "cell_type": "code",
   "execution_count": 60,
   "metadata": {},
   "outputs": [
    {
     "data": {
      "text/html": [
       "<div>\n",
       "<style scoped>\n",
       "    .dataframe tbody tr th:only-of-type {\n",
       "        vertical-align: middle;\n",
       "    }\n",
       "\n",
       "    .dataframe tbody tr th {\n",
       "        vertical-align: top;\n",
       "    }\n",
       "\n",
       "    .dataframe thead th {\n",
       "        text-align: right;\n",
       "    }\n",
       "</style>\n",
       "<table border=\"1\" class=\"dataframe\">\n",
       "  <thead>\n",
       "    <tr style=\"text-align: right;\">\n",
       "      <th></th>\n",
       "      <th>0</th>\n",
       "      <th>1</th>\n",
       "      <th>chain_break_fraction</th>\n",
       "      <th>energy</th>\n",
       "      <th>num_occurrences</th>\n",
       "      <th>state</th>\n",
       "    </tr>\n",
       "  </thead>\n",
       "  <tbody>\n",
       "    <tr>\n",
       "      <th>0</th>\n",
       "      <td>-1</td>\n",
       "      <td>-1</td>\n",
       "      <td>0.0</td>\n",
       "      <td>-1.0</td>\n",
       "      <td>1</td>\n",
       "      <td>0 0</td>\n",
       "    </tr>\n",
       "    <tr>\n",
       "      <th>1</th>\n",
       "      <td>-1</td>\n",
       "      <td>-1</td>\n",
       "      <td>0.0</td>\n",
       "      <td>-1.0</td>\n",
       "      <td>1</td>\n",
       "      <td>0 0</td>\n",
       "    </tr>\n",
       "    <tr>\n",
       "      <th>2</th>\n",
       "      <td>-1</td>\n",
       "      <td>-1</td>\n",
       "      <td>0.0</td>\n",
       "      <td>-1.0</td>\n",
       "      <td>1</td>\n",
       "      <td>0 0</td>\n",
       "    </tr>\n",
       "    <tr>\n",
       "      <th>3</th>\n",
       "      <td>-1</td>\n",
       "      <td>-1</td>\n",
       "      <td>0.0</td>\n",
       "      <td>-1.0</td>\n",
       "      <td>1</td>\n",
       "      <td>0 0</td>\n",
       "    </tr>\n",
       "    <tr>\n",
       "      <th>4</th>\n",
       "      <td>-1</td>\n",
       "      <td>-1</td>\n",
       "      <td>0.0</td>\n",
       "      <td>-1.0</td>\n",
       "      <td>1</td>\n",
       "      <td>0 0</td>\n",
       "    </tr>\n",
       "    <tr>\n",
       "      <th>...</th>\n",
       "      <td>...</td>\n",
       "      <td>...</td>\n",
       "      <td>...</td>\n",
       "      <td>...</td>\n",
       "      <td>...</td>\n",
       "      <td>...</td>\n",
       "    </tr>\n",
       "    <tr>\n",
       "      <th>995</th>\n",
       "      <td>-1</td>\n",
       "      <td>-1</td>\n",
       "      <td>0.0</td>\n",
       "      <td>-1.0</td>\n",
       "      <td>1</td>\n",
       "      <td>0 0</td>\n",
       "    </tr>\n",
       "    <tr>\n",
       "      <th>996</th>\n",
       "      <td>-1</td>\n",
       "      <td>-1</td>\n",
       "      <td>0.0</td>\n",
       "      <td>-1.0</td>\n",
       "      <td>1</td>\n",
       "      <td>0 0</td>\n",
       "    </tr>\n",
       "    <tr>\n",
       "      <th>997</th>\n",
       "      <td>1</td>\n",
       "      <td>1</td>\n",
       "      <td>0.0</td>\n",
       "      <td>-1.0</td>\n",
       "      <td>1</td>\n",
       "      <td>1 1</td>\n",
       "    </tr>\n",
       "    <tr>\n",
       "      <th>998</th>\n",
       "      <td>-1</td>\n",
       "      <td>-1</td>\n",
       "      <td>0.0</td>\n",
       "      <td>-1.0</td>\n",
       "      <td>1</td>\n",
       "      <td>0 0</td>\n",
       "    </tr>\n",
       "    <tr>\n",
       "      <th>999</th>\n",
       "      <td>-1</td>\n",
       "      <td>-1</td>\n",
       "      <td>0.0</td>\n",
       "      <td>-1.0</td>\n",
       "      <td>1</td>\n",
       "      <td>0 0</td>\n",
       "    </tr>\n",
       "  </tbody>\n",
       "</table>\n",
       "<p>1000 rows × 6 columns</p>\n",
       "</div>"
      ],
      "text/plain": [
       "     0  1  chain_break_fraction  energy  num_occurrences state\n",
       "0   -1 -1                   0.0    -1.0                1   0 0\n",
       "1   -1 -1                   0.0    -1.0                1   0 0\n",
       "2   -1 -1                   0.0    -1.0                1   0 0\n",
       "3   -1 -1                   0.0    -1.0                1   0 0\n",
       "4   -1 -1                   0.0    -1.0                1   0 0\n",
       "..  .. ..                   ...     ...              ...   ...\n",
       "995 -1 -1                   0.0    -1.0                1   0 0\n",
       "996 -1 -1                   0.0    -1.0                1   0 0\n",
       "997  1  1                   0.0    -1.0                1   1 1\n",
       "998 -1 -1                   0.0    -1.0                1   0 0\n",
       "999 -1 -1                   0.0    -1.0                1   0 0\n",
       "\n",
       "[1000 rows x 6 columns]"
      ]
     },
     "execution_count": 60,
     "metadata": {},
     "output_type": "execute_result"
    }
   ],
   "source": [
    "sampleset"
   ]
  },
  {
   "cell_type": "code",
   "execution_count": null,
   "metadata": {},
   "outputs": [],
   "source": []
  }
 ],
 "metadata": {
  "kernelspec": {
   "display_name": "Python 3",
   "language": "python",
   "name": "python3"
  },
  "language_info": {
   "codemirror_mode": {
    "name": "ipython",
    "version": 3
   },
   "file_extension": ".py",
   "mimetype": "text/x-python",
   "name": "python",
   "nbconvert_exporter": "python",
   "pygments_lexer": "ipython3",
   "version": "3.11.10"
  }
 },
 "nbformat": 4,
 "nbformat_minor": 2
}
